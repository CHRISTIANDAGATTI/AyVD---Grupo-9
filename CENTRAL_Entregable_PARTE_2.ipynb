{
  "nbformat": 4,
  "nbformat_minor": 0,
  "metadata": {
    "colab": {
      "name": "CENTRAL Entregable - PARTE 2.ipynb",
      "provenance": [],
      "collapsed_sections": [],
      "include_colab_link": true
    },
    "kernelspec": {
      "name": "python3",
      "display_name": "Python 3"
    }
  },
  "cells": [
    {
      "cell_type": "markdown",
      "metadata": {
        "id": "view-in-github",
        "colab_type": "text"
      },
      "source": [
        "<a href=\"https://colab.research.google.com/github/CHRISTIANDAGATTI/AyVD---Grupo-9/blob/main/CENTRAL_Entregable_PARTE_2.ipynb\" target=\"_parent\"><img src=\"https://colab.research.google.com/assets/colab-badge.svg\" alt=\"Open In Colab\"/></a>"
      ]
    },
    {
      "cell_type": "markdown",
      "metadata": {
        "id": "LYvAOR2VzHmW"
      },
      "source": [
        "\n",
        "\n",
        "\n",
        "**Diplomatura en Ciencia de Datos, Aprendizaje Automático y sus Aplicaciones**\n",
        "\n",
        "**Edición 2022**\n",
        "\n",
        "---\n",
        "\n",
        "# Trabajo práctico entregable - Parte 2"
      ]
    },
    {
      "cell_type": "code",
      "metadata": {
        "id": "Xwdfo7z20TUK"
      },
      "source": [
        "import io\n",
        "import matplotlib\n",
        "import matplotlib.pyplot as plt\n",
        "import numpy\n",
        "import pandas as pd\n",
        "import seaborn as sns\n",
        "from scipy import stats\n",
        "\n",
        "sns.set_context('talk')"
      ],
      "execution_count": 1,
      "outputs": []
    },
    {
      "cell_type": "markdown",
      "metadata": {
        "id": "XY2Hl-Ma07Nn"
      },
      "source": [
        "## Lectura del dataset\n",
        "\n",
        "En la notebook 00 se explican los detalles de la siguiente sección."
      ]
    },
    {
      "cell_type": "code",
      "metadata": {
        "id": "Vviv_sqXdR5W"
      },
      "source": [
        "url = 'https://cs.famaf.unc.edu.ar/~mteruel/datasets/diplodatos/sysarmy_survey_2020_processed.csv'\n",
        "df = pd.read_csv(url)"
      ],
      "execution_count": 2,
      "outputs": []
    },
    {
      "cell_type": "code",
      "metadata": {
        "id": "gckNHXXLktJ4",
        "colab": {
          "base_uri": "https://localhost:8080/",
          "height": 324
        },
        "outputId": "8dedd00b-d71e-4da9-ec6d-56aa046f3445"
      },
      "source": [
        "df[:3]"
      ],
      "execution_count": 3,
      "outputs": [
        {
          "output_type": "execute_result",
          "data": {
            "text/plain": [
              "  profile_gender  profile_age work_country                    work_province  \\\n",
              "0          Mujer           26    Argentina  Ciudad Autónoma de Buenos Aires   \n",
              "1         Hombre           29    Argentina                       Corrientes   \n",
              "2          Mujer           22    Argentina  Ciudad Autónoma de Buenos Aires   \n",
              "\n",
              "   profile_years_experience  work_years_in_company  \\\n",
              "0                       3.0                    3.0   \n",
              "1                       5.0                    2.0   \n",
              "2                       2.0                    0.0   \n",
              "\n",
              "   work_years_in_current_position  work_people_in_charge_of  \\\n",
              "0                             3.0                         0   \n",
              "1                             2.0                         4   \n",
              "2                             0.0                         0   \n",
              "\n",
              "  profile_studies_level profile_studies_level_state  ...  \\\n",
              "0         Universitario                    En curso  ...   \n",
              "1         Universitario                    En curso  ...   \n",
              "2            Secundario                  Completado  ...   \n",
              "\n",
              "  work_has_violence_situations profile_sexual_orientation  \\\n",
              "0         En mi trabajo actual                 Homosexual   \n",
              "1                        Jamás               Heterosexual   \n",
              "2       En un trabajo anterior           Bisexual o queer   \n",
              "\n",
              "  profile_has_disabilities profile_has_disabilities_hiring_difficulties  \\\n",
              "0                      NaN                                          NaN   \n",
              "1                   Visual                                           No   \n",
              "2                      NaN                                           No   \n",
              "\n",
              "  company_employee_number                          company_main_activity  \\\n",
              "0                501-1000  Servicios / Consultoría de Software / Digital   \n",
              "1                 201-500                               Otras industrias   \n",
              "2               2001-5000                               Otras industrias   \n",
              "\n",
              "  company_recommended company_diversity_policies  \\\n",
              "0                   7                          2   \n",
              "1                   8                          9   \n",
              "2                   6                          9   \n",
              "\n",
              "                              company_extra_benefits  \\\n",
              "0  Capacitaciones y/o cursos, Comidas pagas / sub...   \n",
              "1  Horarios flexibles, Stock options / RSUs, Viát...   \n",
              "2  Clases de gimnasia online, Comidas pagas / sub...   \n",
              "\n",
              "  company_best_companies_city  \n",
              "0                         NaN  \n",
              "1                         NaN  \n",
              "2                         NaN  \n",
              "\n",
              "[3 rows x 48 columns]"
            ],
            "text/html": [
              "\n",
              "  <div id=\"df-ca189a84-cc82-4584-85dc-5c8cc7db8aae\">\n",
              "    <div class=\"colab-df-container\">\n",
              "      <div>\n",
              "<style scoped>\n",
              "    .dataframe tbody tr th:only-of-type {\n",
              "        vertical-align: middle;\n",
              "    }\n",
              "\n",
              "    .dataframe tbody tr th {\n",
              "        vertical-align: top;\n",
              "    }\n",
              "\n",
              "    .dataframe thead th {\n",
              "        text-align: right;\n",
              "    }\n",
              "</style>\n",
              "<table border=\"1\" class=\"dataframe\">\n",
              "  <thead>\n",
              "    <tr style=\"text-align: right;\">\n",
              "      <th></th>\n",
              "      <th>profile_gender</th>\n",
              "      <th>profile_age</th>\n",
              "      <th>work_country</th>\n",
              "      <th>work_province</th>\n",
              "      <th>profile_years_experience</th>\n",
              "      <th>work_years_in_company</th>\n",
              "      <th>work_years_in_current_position</th>\n",
              "      <th>work_people_in_charge_of</th>\n",
              "      <th>profile_studies_level</th>\n",
              "      <th>profile_studies_level_state</th>\n",
              "      <th>...</th>\n",
              "      <th>work_has_violence_situations</th>\n",
              "      <th>profile_sexual_orientation</th>\n",
              "      <th>profile_has_disabilities</th>\n",
              "      <th>profile_has_disabilities_hiring_difficulties</th>\n",
              "      <th>company_employee_number</th>\n",
              "      <th>company_main_activity</th>\n",
              "      <th>company_recommended</th>\n",
              "      <th>company_diversity_policies</th>\n",
              "      <th>company_extra_benefits</th>\n",
              "      <th>company_best_companies_city</th>\n",
              "    </tr>\n",
              "  </thead>\n",
              "  <tbody>\n",
              "    <tr>\n",
              "      <th>0</th>\n",
              "      <td>Mujer</td>\n",
              "      <td>26</td>\n",
              "      <td>Argentina</td>\n",
              "      <td>Ciudad Autónoma de Buenos Aires</td>\n",
              "      <td>3.0</td>\n",
              "      <td>3.0</td>\n",
              "      <td>3.0</td>\n",
              "      <td>0</td>\n",
              "      <td>Universitario</td>\n",
              "      <td>En curso</td>\n",
              "      <td>...</td>\n",
              "      <td>En mi trabajo actual</td>\n",
              "      <td>Homosexual</td>\n",
              "      <td>NaN</td>\n",
              "      <td>NaN</td>\n",
              "      <td>501-1000</td>\n",
              "      <td>Servicios / Consultoría de Software / Digital</td>\n",
              "      <td>7</td>\n",
              "      <td>2</td>\n",
              "      <td>Capacitaciones y/o cursos, Comidas pagas / sub...</td>\n",
              "      <td>NaN</td>\n",
              "    </tr>\n",
              "    <tr>\n",
              "      <th>1</th>\n",
              "      <td>Hombre</td>\n",
              "      <td>29</td>\n",
              "      <td>Argentina</td>\n",
              "      <td>Corrientes</td>\n",
              "      <td>5.0</td>\n",
              "      <td>2.0</td>\n",
              "      <td>2.0</td>\n",
              "      <td>4</td>\n",
              "      <td>Universitario</td>\n",
              "      <td>En curso</td>\n",
              "      <td>...</td>\n",
              "      <td>Jamás</td>\n",
              "      <td>Heterosexual</td>\n",
              "      <td>Visual</td>\n",
              "      <td>No</td>\n",
              "      <td>201-500</td>\n",
              "      <td>Otras industrias</td>\n",
              "      <td>8</td>\n",
              "      <td>9</td>\n",
              "      <td>Horarios flexibles, Stock options / RSUs, Viát...</td>\n",
              "      <td>NaN</td>\n",
              "    </tr>\n",
              "    <tr>\n",
              "      <th>2</th>\n",
              "      <td>Mujer</td>\n",
              "      <td>22</td>\n",
              "      <td>Argentina</td>\n",
              "      <td>Ciudad Autónoma de Buenos Aires</td>\n",
              "      <td>2.0</td>\n",
              "      <td>0.0</td>\n",
              "      <td>0.0</td>\n",
              "      <td>0</td>\n",
              "      <td>Secundario</td>\n",
              "      <td>Completado</td>\n",
              "      <td>...</td>\n",
              "      <td>En un trabajo anterior</td>\n",
              "      <td>Bisexual o queer</td>\n",
              "      <td>NaN</td>\n",
              "      <td>No</td>\n",
              "      <td>2001-5000</td>\n",
              "      <td>Otras industrias</td>\n",
              "      <td>6</td>\n",
              "      <td>9</td>\n",
              "      <td>Clases de gimnasia online, Comidas pagas / sub...</td>\n",
              "      <td>NaN</td>\n",
              "    </tr>\n",
              "  </tbody>\n",
              "</table>\n",
              "<p>3 rows × 48 columns</p>\n",
              "</div>\n",
              "      <button class=\"colab-df-convert\" onclick=\"convertToInteractive('df-ca189a84-cc82-4584-85dc-5c8cc7db8aae')\"\n",
              "              title=\"Convert this dataframe to an interactive table.\"\n",
              "              style=\"display:none;\">\n",
              "        \n",
              "  <svg xmlns=\"http://www.w3.org/2000/svg\" height=\"24px\"viewBox=\"0 0 24 24\"\n",
              "       width=\"24px\">\n",
              "    <path d=\"M0 0h24v24H0V0z\" fill=\"none\"/>\n",
              "    <path d=\"M18.56 5.44l.94 2.06.94-2.06 2.06-.94-2.06-.94-.94-2.06-.94 2.06-2.06.94zm-11 1L8.5 8.5l.94-2.06 2.06-.94-2.06-.94L8.5 2.5l-.94 2.06-2.06.94zm10 10l.94 2.06.94-2.06 2.06-.94-2.06-.94-.94-2.06-.94 2.06-2.06.94z\"/><path d=\"M17.41 7.96l-1.37-1.37c-.4-.4-.92-.59-1.43-.59-.52 0-1.04.2-1.43.59L10.3 9.45l-7.72 7.72c-.78.78-.78 2.05 0 2.83L4 21.41c.39.39.9.59 1.41.59.51 0 1.02-.2 1.41-.59l7.78-7.78 2.81-2.81c.8-.78.8-2.07 0-2.86zM5.41 20L4 18.59l7.72-7.72 1.47 1.35L5.41 20z\"/>\n",
              "  </svg>\n",
              "      </button>\n",
              "      \n",
              "  <style>\n",
              "    .colab-df-container {\n",
              "      display:flex;\n",
              "      flex-wrap:wrap;\n",
              "      gap: 12px;\n",
              "    }\n",
              "\n",
              "    .colab-df-convert {\n",
              "      background-color: #E8F0FE;\n",
              "      border: none;\n",
              "      border-radius: 50%;\n",
              "      cursor: pointer;\n",
              "      display: none;\n",
              "      fill: #1967D2;\n",
              "      height: 32px;\n",
              "      padding: 0 0 0 0;\n",
              "      width: 32px;\n",
              "    }\n",
              "\n",
              "    .colab-df-convert:hover {\n",
              "      background-color: #E2EBFA;\n",
              "      box-shadow: 0px 1px 2px rgba(60, 64, 67, 0.3), 0px 1px 3px 1px rgba(60, 64, 67, 0.15);\n",
              "      fill: #174EA6;\n",
              "    }\n",
              "\n",
              "    [theme=dark] .colab-df-convert {\n",
              "      background-color: #3B4455;\n",
              "      fill: #D2E3FC;\n",
              "    }\n",
              "\n",
              "    [theme=dark] .colab-df-convert:hover {\n",
              "      background-color: #434B5C;\n",
              "      box-shadow: 0px 1px 3px 1px rgba(0, 0, 0, 0.15);\n",
              "      filter: drop-shadow(0px 1px 2px rgba(0, 0, 0, 0.3));\n",
              "      fill: #FFFFFF;\n",
              "    }\n",
              "  </style>\n",
              "\n",
              "      <script>\n",
              "        const buttonEl =\n",
              "          document.querySelector('#df-ca189a84-cc82-4584-85dc-5c8cc7db8aae button.colab-df-convert');\n",
              "        buttonEl.style.display =\n",
              "          google.colab.kernel.accessAllowed ? 'block' : 'none';\n",
              "\n",
              "        async function convertToInteractive(key) {\n",
              "          const element = document.querySelector('#df-ca189a84-cc82-4584-85dc-5c8cc7db8aae');\n",
              "          const dataTable =\n",
              "            await google.colab.kernel.invokeFunction('convertToInteractive',\n",
              "                                                     [key], {});\n",
              "          if (!dataTable) return;\n",
              "\n",
              "          const docLinkHtml = 'Like what you see? Visit the ' +\n",
              "            '<a target=\"_blank\" href=https://colab.research.google.com/notebooks/data_table.ipynb>data table notebook</a>'\n",
              "            + ' to learn more about interactive tables.';\n",
              "          element.innerHTML = '';\n",
              "          dataTable['output_type'] = 'display_data';\n",
              "          await google.colab.output.renderOutput(dataTable, element);\n",
              "          const docLink = document.createElement('div');\n",
              "          docLink.innerHTML = docLinkHtml;\n",
              "          element.appendChild(docLink);\n",
              "        }\n",
              "      </script>\n",
              "    </div>\n",
              "  </div>\n",
              "  "
            ]
          },
          "metadata": {},
          "execution_count": 3
        }
      ]
    },
    {
      "cell_type": "code",
      "metadata": {
        "id": "2lzmzK1NuPNT",
        "colab": {
          "base_uri": "https://localhost:8080/",
          "height": 206
        },
        "outputId": "de7f8d43-1739-4924-d006-ce8645ea20f5"
      },
      "source": [
        "df[['profile_gender', 'salary_monthly_NETO']].groupby('profile_gender').describe()"
      ],
      "execution_count": 4,
      "outputs": [
        {
          "output_type": "execute_result",
          "data": {
            "text/plain": [
              "               salary_monthly_NETO                                     \\\n",
              "                             count          mean            std   min   \n",
              "profile_gender                                                          \n",
              "Hombre                      4944.0  98836.063558  102159.664237   1.0   \n",
              "Mujer                        908.0  73501.414465   56256.880181   2.0   \n",
              "Otros                         31.0  95441.354839   88635.674358  40.0   \n",
              "\n",
              "                                                       \n",
              "                    25%      50%       75%        max  \n",
              "profile_gender                                         \n",
              "Hombre          53285.0  80000.0  110000.0  2080000.0  \n",
              "Mujer           43818.0  65000.0   92000.0   800000.0  \n",
              "Otros           39500.0  74000.0  117500.0   380000.0  "
            ],
            "text/html": [
              "\n",
              "  <div id=\"df-fd655dc4-6b6e-4be7-9ce7-70d8258c053f\">\n",
              "    <div class=\"colab-df-container\">\n",
              "      <div>\n",
              "<style scoped>\n",
              "    .dataframe tbody tr th:only-of-type {\n",
              "        vertical-align: middle;\n",
              "    }\n",
              "\n",
              "    .dataframe tbody tr th {\n",
              "        vertical-align: top;\n",
              "    }\n",
              "\n",
              "    .dataframe thead tr th {\n",
              "        text-align: left;\n",
              "    }\n",
              "\n",
              "    .dataframe thead tr:last-of-type th {\n",
              "        text-align: right;\n",
              "    }\n",
              "</style>\n",
              "<table border=\"1\" class=\"dataframe\">\n",
              "  <thead>\n",
              "    <tr>\n",
              "      <th></th>\n",
              "      <th colspan=\"8\" halign=\"left\">salary_monthly_NETO</th>\n",
              "    </tr>\n",
              "    <tr>\n",
              "      <th></th>\n",
              "      <th>count</th>\n",
              "      <th>mean</th>\n",
              "      <th>std</th>\n",
              "      <th>min</th>\n",
              "      <th>25%</th>\n",
              "      <th>50%</th>\n",
              "      <th>75%</th>\n",
              "      <th>max</th>\n",
              "    </tr>\n",
              "    <tr>\n",
              "      <th>profile_gender</th>\n",
              "      <th></th>\n",
              "      <th></th>\n",
              "      <th></th>\n",
              "      <th></th>\n",
              "      <th></th>\n",
              "      <th></th>\n",
              "      <th></th>\n",
              "      <th></th>\n",
              "    </tr>\n",
              "  </thead>\n",
              "  <tbody>\n",
              "    <tr>\n",
              "      <th>Hombre</th>\n",
              "      <td>4944.0</td>\n",
              "      <td>98836.063558</td>\n",
              "      <td>102159.664237</td>\n",
              "      <td>1.0</td>\n",
              "      <td>53285.0</td>\n",
              "      <td>80000.0</td>\n",
              "      <td>110000.0</td>\n",
              "      <td>2080000.0</td>\n",
              "    </tr>\n",
              "    <tr>\n",
              "      <th>Mujer</th>\n",
              "      <td>908.0</td>\n",
              "      <td>73501.414465</td>\n",
              "      <td>56256.880181</td>\n",
              "      <td>2.0</td>\n",
              "      <td>43818.0</td>\n",
              "      <td>65000.0</td>\n",
              "      <td>92000.0</td>\n",
              "      <td>800000.0</td>\n",
              "    </tr>\n",
              "    <tr>\n",
              "      <th>Otros</th>\n",
              "      <td>31.0</td>\n",
              "      <td>95441.354839</td>\n",
              "      <td>88635.674358</td>\n",
              "      <td>40.0</td>\n",
              "      <td>39500.0</td>\n",
              "      <td>74000.0</td>\n",
              "      <td>117500.0</td>\n",
              "      <td>380000.0</td>\n",
              "    </tr>\n",
              "  </tbody>\n",
              "</table>\n",
              "</div>\n",
              "      <button class=\"colab-df-convert\" onclick=\"convertToInteractive('df-fd655dc4-6b6e-4be7-9ce7-70d8258c053f')\"\n",
              "              title=\"Convert this dataframe to an interactive table.\"\n",
              "              style=\"display:none;\">\n",
              "        \n",
              "  <svg xmlns=\"http://www.w3.org/2000/svg\" height=\"24px\"viewBox=\"0 0 24 24\"\n",
              "       width=\"24px\">\n",
              "    <path d=\"M0 0h24v24H0V0z\" fill=\"none\"/>\n",
              "    <path d=\"M18.56 5.44l.94 2.06.94-2.06 2.06-.94-2.06-.94-.94-2.06-.94 2.06-2.06.94zm-11 1L8.5 8.5l.94-2.06 2.06-.94-2.06-.94L8.5 2.5l-.94 2.06-2.06.94zm10 10l.94 2.06.94-2.06 2.06-.94-2.06-.94-.94-2.06-.94 2.06-2.06.94z\"/><path d=\"M17.41 7.96l-1.37-1.37c-.4-.4-.92-.59-1.43-.59-.52 0-1.04.2-1.43.59L10.3 9.45l-7.72 7.72c-.78.78-.78 2.05 0 2.83L4 21.41c.39.39.9.59 1.41.59.51 0 1.02-.2 1.41-.59l7.78-7.78 2.81-2.81c.8-.78.8-2.07 0-2.86zM5.41 20L4 18.59l7.72-7.72 1.47 1.35L5.41 20z\"/>\n",
              "  </svg>\n",
              "      </button>\n",
              "      \n",
              "  <style>\n",
              "    .colab-df-container {\n",
              "      display:flex;\n",
              "      flex-wrap:wrap;\n",
              "      gap: 12px;\n",
              "    }\n",
              "\n",
              "    .colab-df-convert {\n",
              "      background-color: #E8F0FE;\n",
              "      border: none;\n",
              "      border-radius: 50%;\n",
              "      cursor: pointer;\n",
              "      display: none;\n",
              "      fill: #1967D2;\n",
              "      height: 32px;\n",
              "      padding: 0 0 0 0;\n",
              "      width: 32px;\n",
              "    }\n",
              "\n",
              "    .colab-df-convert:hover {\n",
              "      background-color: #E2EBFA;\n",
              "      box-shadow: 0px 1px 2px rgba(60, 64, 67, 0.3), 0px 1px 3px 1px rgba(60, 64, 67, 0.15);\n",
              "      fill: #174EA6;\n",
              "    }\n",
              "\n",
              "    [theme=dark] .colab-df-convert {\n",
              "      background-color: #3B4455;\n",
              "      fill: #D2E3FC;\n",
              "    }\n",
              "\n",
              "    [theme=dark] .colab-df-convert:hover {\n",
              "      background-color: #434B5C;\n",
              "      box-shadow: 0px 1px 3px 1px rgba(0, 0, 0, 0.15);\n",
              "      filter: drop-shadow(0px 1px 2px rgba(0, 0, 0, 0.3));\n",
              "      fill: #FFFFFF;\n",
              "    }\n",
              "  </style>\n",
              "\n",
              "      <script>\n",
              "        const buttonEl =\n",
              "          document.querySelector('#df-fd655dc4-6b6e-4be7-9ce7-70d8258c053f button.colab-df-convert');\n",
              "        buttonEl.style.display =\n",
              "          google.colab.kernel.accessAllowed ? 'block' : 'none';\n",
              "\n",
              "        async function convertToInteractive(key) {\n",
              "          const element = document.querySelector('#df-fd655dc4-6b6e-4be7-9ce7-70d8258c053f');\n",
              "          const dataTable =\n",
              "            await google.colab.kernel.invokeFunction('convertToInteractive',\n",
              "                                                     [key], {});\n",
              "          if (!dataTable) return;\n",
              "\n",
              "          const docLinkHtml = 'Like what you see? Visit the ' +\n",
              "            '<a target=\"_blank\" href=https://colab.research.google.com/notebooks/data_table.ipynb>data table notebook</a>'\n",
              "            + ' to learn more about interactive tables.';\n",
              "          element.innerHTML = '';\n",
              "          dataTable['output_type'] = 'display_data';\n",
              "          await google.colab.output.renderOutput(dataTable, element);\n",
              "          const docLink = document.createElement('div');\n",
              "          docLink.innerHTML = docLinkHtml;\n",
              "          element.appendChild(docLink);\n",
              "        }\n",
              "      </script>\n",
              "    </div>\n",
              "  </div>\n",
              "  "
            ]
          },
          "metadata": {},
          "execution_count": 4
        }
      ]
    },
    {
      "cell_type": "code",
      "metadata": {
        "colab": {
          "base_uri": "https://localhost:8080/",
          "height": 206
        },
        "id": "pycKJ5jWkShW",
        "outputId": "e11ed573-1043-435a-8aea-939e5fa3e27d"
      },
      "source": [
        "df[df.salary_monthly_NETO > 1000]\\\n",
        "  [['profile_gender', 'salary_monthly_NETO']].groupby('profile_gender').describe()"
      ],
      "execution_count": 5,
      "outputs": [
        {
          "output_type": "execute_result",
          "data": {
            "text/plain": [
              "               salary_monthly_NETO                                         \\\n",
              "                             count           mean            std      min   \n",
              "profile_gender                                                              \n",
              "Hombre                      4815.0  101481.624343  102215.304684   1100.0   \n",
              "Mujer                        863.0   77328.913778   55082.760570   2000.0   \n",
              "Otros                         28.0  105660.714286   87235.710235  34000.0   \n",
              "\n",
              "                                                       \n",
              "                    25%      50%       75%        max  \n",
              "profile_gender                                         \n",
              "Hombre          55000.0  80000.0  110000.0  2080000.0  \n",
              "Mujer           47850.0  67200.0   93000.0   800000.0  \n",
              "Otros           43750.0  78900.0  122750.0   380000.0  "
            ],
            "text/html": [
              "\n",
              "  <div id=\"df-19977f3d-6158-44f9-943e-f9ada11e3b14\">\n",
              "    <div class=\"colab-df-container\">\n",
              "      <div>\n",
              "<style scoped>\n",
              "    .dataframe tbody tr th:only-of-type {\n",
              "        vertical-align: middle;\n",
              "    }\n",
              "\n",
              "    .dataframe tbody tr th {\n",
              "        vertical-align: top;\n",
              "    }\n",
              "\n",
              "    .dataframe thead tr th {\n",
              "        text-align: left;\n",
              "    }\n",
              "\n",
              "    .dataframe thead tr:last-of-type th {\n",
              "        text-align: right;\n",
              "    }\n",
              "</style>\n",
              "<table border=\"1\" class=\"dataframe\">\n",
              "  <thead>\n",
              "    <tr>\n",
              "      <th></th>\n",
              "      <th colspan=\"8\" halign=\"left\">salary_monthly_NETO</th>\n",
              "    </tr>\n",
              "    <tr>\n",
              "      <th></th>\n",
              "      <th>count</th>\n",
              "      <th>mean</th>\n",
              "      <th>std</th>\n",
              "      <th>min</th>\n",
              "      <th>25%</th>\n",
              "      <th>50%</th>\n",
              "      <th>75%</th>\n",
              "      <th>max</th>\n",
              "    </tr>\n",
              "    <tr>\n",
              "      <th>profile_gender</th>\n",
              "      <th></th>\n",
              "      <th></th>\n",
              "      <th></th>\n",
              "      <th></th>\n",
              "      <th></th>\n",
              "      <th></th>\n",
              "      <th></th>\n",
              "      <th></th>\n",
              "    </tr>\n",
              "  </thead>\n",
              "  <tbody>\n",
              "    <tr>\n",
              "      <th>Hombre</th>\n",
              "      <td>4815.0</td>\n",
              "      <td>101481.624343</td>\n",
              "      <td>102215.304684</td>\n",
              "      <td>1100.0</td>\n",
              "      <td>55000.0</td>\n",
              "      <td>80000.0</td>\n",
              "      <td>110000.0</td>\n",
              "      <td>2080000.0</td>\n",
              "    </tr>\n",
              "    <tr>\n",
              "      <th>Mujer</th>\n",
              "      <td>863.0</td>\n",
              "      <td>77328.913778</td>\n",
              "      <td>55082.760570</td>\n",
              "      <td>2000.0</td>\n",
              "      <td>47850.0</td>\n",
              "      <td>67200.0</td>\n",
              "      <td>93000.0</td>\n",
              "      <td>800000.0</td>\n",
              "    </tr>\n",
              "    <tr>\n",
              "      <th>Otros</th>\n",
              "      <td>28.0</td>\n",
              "      <td>105660.714286</td>\n",
              "      <td>87235.710235</td>\n",
              "      <td>34000.0</td>\n",
              "      <td>43750.0</td>\n",
              "      <td>78900.0</td>\n",
              "      <td>122750.0</td>\n",
              "      <td>380000.0</td>\n",
              "    </tr>\n",
              "  </tbody>\n",
              "</table>\n",
              "</div>\n",
              "      <button class=\"colab-df-convert\" onclick=\"convertToInteractive('df-19977f3d-6158-44f9-943e-f9ada11e3b14')\"\n",
              "              title=\"Convert this dataframe to an interactive table.\"\n",
              "              style=\"display:none;\">\n",
              "        \n",
              "  <svg xmlns=\"http://www.w3.org/2000/svg\" height=\"24px\"viewBox=\"0 0 24 24\"\n",
              "       width=\"24px\">\n",
              "    <path d=\"M0 0h24v24H0V0z\" fill=\"none\"/>\n",
              "    <path d=\"M18.56 5.44l.94 2.06.94-2.06 2.06-.94-2.06-.94-.94-2.06-.94 2.06-2.06.94zm-11 1L8.5 8.5l.94-2.06 2.06-.94-2.06-.94L8.5 2.5l-.94 2.06-2.06.94zm10 10l.94 2.06.94-2.06 2.06-.94-2.06-.94-.94-2.06-.94 2.06-2.06.94z\"/><path d=\"M17.41 7.96l-1.37-1.37c-.4-.4-.92-.59-1.43-.59-.52 0-1.04.2-1.43.59L10.3 9.45l-7.72 7.72c-.78.78-.78 2.05 0 2.83L4 21.41c.39.39.9.59 1.41.59.51 0 1.02-.2 1.41-.59l7.78-7.78 2.81-2.81c.8-.78.8-2.07 0-2.86zM5.41 20L4 18.59l7.72-7.72 1.47 1.35L5.41 20z\"/>\n",
              "  </svg>\n",
              "      </button>\n",
              "      \n",
              "  <style>\n",
              "    .colab-df-container {\n",
              "      display:flex;\n",
              "      flex-wrap:wrap;\n",
              "      gap: 12px;\n",
              "    }\n",
              "\n",
              "    .colab-df-convert {\n",
              "      background-color: #E8F0FE;\n",
              "      border: none;\n",
              "      border-radius: 50%;\n",
              "      cursor: pointer;\n",
              "      display: none;\n",
              "      fill: #1967D2;\n",
              "      height: 32px;\n",
              "      padding: 0 0 0 0;\n",
              "      width: 32px;\n",
              "    }\n",
              "\n",
              "    .colab-df-convert:hover {\n",
              "      background-color: #E2EBFA;\n",
              "      box-shadow: 0px 1px 2px rgba(60, 64, 67, 0.3), 0px 1px 3px 1px rgba(60, 64, 67, 0.15);\n",
              "      fill: #174EA6;\n",
              "    }\n",
              "\n",
              "    [theme=dark] .colab-df-convert {\n",
              "      background-color: #3B4455;\n",
              "      fill: #D2E3FC;\n",
              "    }\n",
              "\n",
              "    [theme=dark] .colab-df-convert:hover {\n",
              "      background-color: #434B5C;\n",
              "      box-shadow: 0px 1px 3px 1px rgba(0, 0, 0, 0.15);\n",
              "      filter: drop-shadow(0px 1px 2px rgba(0, 0, 0, 0.3));\n",
              "      fill: #FFFFFF;\n",
              "    }\n",
              "  </style>\n",
              "\n",
              "      <script>\n",
              "        const buttonEl =\n",
              "          document.querySelector('#df-19977f3d-6158-44f9-943e-f9ada11e3b14 button.colab-df-convert');\n",
              "        buttonEl.style.display =\n",
              "          google.colab.kernel.accessAllowed ? 'block' : 'none';\n",
              "\n",
              "        async function convertToInteractive(key) {\n",
              "          const element = document.querySelector('#df-19977f3d-6158-44f9-943e-f9ada11e3b14');\n",
              "          const dataTable =\n",
              "            await google.colab.kernel.invokeFunction('convertToInteractive',\n",
              "                                                     [key], {});\n",
              "          if (!dataTable) return;\n",
              "\n",
              "          const docLinkHtml = 'Like what you see? Visit the ' +\n",
              "            '<a target=\"_blank\" href=https://colab.research.google.com/notebooks/data_table.ipynb>data table notebook</a>'\n",
              "            + ' to learn more about interactive tables.';\n",
              "          element.innerHTML = '';\n",
              "          dataTable['output_type'] = 'display_data';\n",
              "          await google.colab.output.renderOutput(dataTable, element);\n",
              "          const docLink = document.createElement('div');\n",
              "          docLink.innerHTML = docLinkHtml;\n",
              "          element.appendChild(docLink);\n",
              "        }\n",
              "      </script>\n",
              "    </div>\n",
              "  </div>\n",
              "  "
            ]
          },
          "metadata": {},
          "execution_count": 5
        }
      ]
    },
    {
      "cell_type": "code",
      "metadata": {
        "id": "uZ1GxkLylHx0"
      },
      "source": [
        "alpha = 0.05"
      ],
      "execution_count": 6,
      "outputs": []
    },
    {
      "cell_type": "code",
      "metadata": {
        "id": "OfzFpDO-lYxk",
        "colab": {
          "base_uri": "https://localhost:8080/"
        },
        "outputId": "7bab4644-f676-40bb-f503-53555dbda624"
      },
      "source": [
        "is_man = df.profile_gender == 'Hombre'\n",
        "\n",
        "groupA = df[(df.salary_monthly_NETO > 1000) & is_man].salary_monthly_NETO\n",
        "groupB = df[(df.salary_monthly_NETO > 1000) & ~is_man].salary_monthly_NETO\n",
        "\n",
        "nA=len(groupA)\n",
        "print('nA:', nA)\n",
        "\n",
        "nB=len(groupB)\n",
        "print('nB:', nB)\n"
      ],
      "execution_count": 7,
      "outputs": [
        {
          "output_type": "stream",
          "name": "stdout",
          "text": [
            "nA: 4815\n",
            "nB: 891\n"
          ]
        }
      ]
    },
    {
      "cell_type": "markdown",
      "metadata": {
        "id": "co_0M_ojtmUh"
      },
      "source": [
        "## Ejercicio 1: Estimación\n",
        "\n",
        "**Consigna:**  Calcular una estimación puntual y un intervalo de confianza de nivel (1-alpha) para la resta entre la media del salario Neto para Hombres menos la media del salario Neto para otros géneros(diferencia de las medias entre el grupoA y grupoB). \n",
        "¿Cómo se relaciona este intervalo de confianza con el test de hipótesis?"
      ]
    },
    {
      "cell_type": "code",
      "metadata": {
        "id": "0fA1RQ0upe6N",
        "colab": {
          "base_uri": "https://localhost:8080/"
        },
        "outputId": "e1c6466c-a307-4f75-c608-1b8b80f774f8"
      },
      "source": [
        "#estimacion de media e intervalos de confianza para Hombres\n",
        "alpha = 0.05\n",
        "z_0975 = 1.96\n",
        "media=groupA.mean()\n",
        "std=groupA.std()\n",
        "estadistico_liminf =media-(std*z_0975/numpy.sqrt(nA))\n",
        "estadistico_limsup =media+(std*z_0975/numpy.sqrt(nA))\n",
        "print(\"liminf=\", estadistico_liminf,\"limsup=\", estadistico_limsup)\n",
        "print(\"Dif=\", estadistico_limsup-estadistico_liminf)\n",
        "print(\"media=\", media)\n",
        "print(\"std=\",std)"
      ],
      "execution_count": 8,
      "outputs": [
        {
          "output_type": "stream",
          "name": "stdout",
          "text": [
            "liminf= 98594.4443923896 limsup= 104368.80429296875\n",
            "Dif= 5774.3599005791475\n",
            "media= 101481.62434267918\n",
            "std= 102215.30468444877\n"
          ]
        }
      ]
    },
    {
      "cell_type": "code",
      "source": [
        "#estimacion de media e intervalos de confianza para NO Hombres\n",
        "alpha = 0.05\n",
        "z_0975 = 1.96\n",
        "mediaB=groupB.mean()\n",
        "stdB=groupB.std()\n",
        "estadistico_liminfB =mediaB-(stdB*z_0975/numpy.sqrt(nB))\n",
        "estadistico_limsupB =mediaB+(stdB*z_0975/numpy.sqrt(nB))\n",
        "print(\"liminf=\", estadistico_liminfB,\"limsup=\", estadistico_limsupB)\n",
        "print(\"Dif=\", estadistico_limsupB-estadistico_liminfB)\n",
        "print(\"media=\", mediaB)\n",
        "print(\"std=\",stdB)"
      ],
      "metadata": {
        "colab": {
          "base_uri": "https://localhost:8080/"
        },
        "id": "EFekDueUZ9vO",
        "outputId": "37e4dd06-2d1c-4a06-e3f6-59b7d518e8a1"
      },
      "execution_count": 9,
      "outputs": [
        {
          "output_type": "stream",
          "name": "stdout",
          "text": [
            "liminf= 74508.31492410542 limsup= 81930.18696141648\n",
            "Dif= 7421.8720373110555\n",
            "media= 78219.25094276095\n",
            "std= 56515.32732350074\n"
          ]
        }
      ]
    },
    {
      "cell_type": "code",
      "source": [
        "#estimacion de media e intervalos de confianza para la Diferencia entre las medias\n",
        "alpha = 0.05\n",
        "z_0975 = 1.96\n",
        "difmedias=groupA.mean() - groupB.mean()\n",
        "estadistico_liminfDif =difmedias-z_0975*numpy.sqrt(std**2/nA+stdB**2/nB)\n",
        "estadistico_limsupDif =difmedias+z_0975*numpy.sqrt(std**2/nA+stdB**2/nB)\n",
        "print(\"liminf=\", estadistico_liminfDif,\"limsup=\", estadistico_limsupDif)\n",
        "print(\"Dif=\", estadistico_limsupDif-estadistico_liminfDif)\n",
        "print(\"media=\", difmedias)"
      ],
      "metadata": {
        "colab": {
          "base_uri": "https://localhost:8080/"
        },
        "id": "YzUhKK9obB9e",
        "outputId": "147f5034-4644-474f-fc01-77f72457d3b9"
      },
      "execution_count": 10,
      "outputs": [
        {
          "output_type": "stream",
          "name": "stdout",
          "text": [
            "liminf= 18560.5807418027 limsup= 27964.16605803376\n",
            "Dif= 9403.58531623106\n",
            "media= 23262.37339991823\n"
          ]
        }
      ]
    },
    {
      "cell_type": "markdown",
      "source": [
        "**¿Cómo se relaciona este intervalo de confianza con el test de hipótesis?**\n",
        "\n",
        "El t-test, también conocido como prueba t de Student, es un test estadístico empleado para analizar si dos muestras proceden de poblaciones con la misma media. Para ello, cuantifica la diferencia entre la media de las dos muestras y, teniendo en cuenta la varianza de estas, estima cómo de probable es obtener una diferencia igual o mayor que la observada si la hipótesis nula de que las medias poblacionales son iguales fuese cierta. A la probabilidad estimada por el test se le conoce como p-value.\n",
        "\n",
        "Un p-value mayor que un determinado límite, por ejemplo 5% o 1%, indica que la diferencia observada puede deberse al azar, por lo que no se rechaza la hipótesis nula. Por el contrario, cuando el p-value es menor que el límite seleccionado, se considera que existen evidencias suficientes para rechazar que las muestras proceden de poblaciones con misma media.\n",
        "\n",
        "Cuando se dispone de dos muestras, el hecho de que sus valores promedio no sean exactamente iguales no implica que haya evidencias de una diferencia real. Dado que cada muestra tiene su propia variabilidad debida al muestreo aleatorio, aunque procedan de la misma población, las medias muestrales no tienen por qué ser iguales. Es aquí donde el t-test aporta valor. Es un test estadístico para comparar la media entre dos muestras.\n",
        "\n",
        "El estadístico t sigue una distribución conocida como distribución t de Student. Esta distribución se asemeja en gran medida a la distribución normal, tiene como parámetros la media, la varianza y además, a través de los grados de libertad, permite flexibilizar las colas en función del tamaño que tenga la muestra.\n",
        "\n",
        "El proceso a seguir para calcular intervalos de confianza o test de hipótesis es el mismo que el seguido en el modelo Normal. La única diferencia es que, en lugar de emplear Z-scores (cuantiles de la distribución normal), se emplean los T-scores (cuantiles de la distribución t-student)."
      ],
      "metadata": {
        "id": "Tb0b8p67iVdM"
      }
    },
    {
      "cell_type": "markdown",
      "metadata": {
        "id": "IFi2T7Y6nM92"
      },
      "source": [
        "## Ejercicio 2: Test de hipótesis\n"
      ]
    },
    {
      "cell_type": "markdown",
      "metadata": {
        "id": "Rzxe8UYU6EfJ"
      },
      "source": [
        "\n",
        "### 2.1 Formalización\n",
        "\n",
        "Describir formalmente los distintos componentes de un test de hipótesis para comprobar si la distribución de los salarios es distinta entre los grupos A y B.\n",
        "\n",
        "**Hipótesis Nula**\n",
        "\n",
        "$H_0=...$\n",
        "\n",
        "**Estadístico (Pivote)**\n",
        "  * Identificar el estadístico\n",
        "  * Escribir qué distribución tiene bajo $H_0$\n"
      ]
    },
    {
      "cell_type": "markdown",
      "source": [
        "----------------------------------------------------------------------------\n",
        "**Respuesta:**\n",
        "\n",
        "Hipótesis Nula\n",
        "\n",
        "**H0**= No hay diferencia en las medias de los salarios entre el grupo A y el B (***μ1=μ2***)\n",
        "\n",
        "Hipótesis alternativa\n",
        "\n",
        "**Ha**=Existen diferencias en las medias de los salarios entre los grupos A y B (***μ1≠μ2***)\n",
        "\n",
        "-El estadisitico a calcular es la diferencia entre las medias\n",
        "-Dado que la Ha es ***μ1=μ2***, se empleará un test de dos colas, en el que seanalizan posibles desviaciones en las dos direcciones"
      ],
      "metadata": {
        "id": "PlQs_YcvkJo1"
      }
    },
    {
      "cell_type": "markdown",
      "metadata": {
        "id": "3Ip_5YdenC8u"
      },
      "source": [
        "### 2.2 P-valor\n",
        "\n",
        "1. Calcule el p-valor y decida si rechazar o no la hipótesis nula.\n",
        "2. Interprete el resultado.\n",
        "\n",
        "Links útiles:\n",
        "* [Test de hipótesis usando scipy](https://docs.scipy.org/doc/scipy/reference/generated/scipy.stats.ttest_ind.html)\n",
        "* [Test de Welch](http://daniellakens.blogspot.com/2015/01/always-use-welchs-t-test-instead-of.html)"
      ]
    },
    {
      "cell_type": "code",
      "source": [
        "#Test de Levene\n",
        "#Se considera hipótesis nula que los datos proceden de distribuciones con la misma varianza (homocedasticidad). \n",
        "#Por lo tanto, si el p-value es menor que un determinado valor (típicamente 0.05), \n",
        "#entonces se considera que hay evidencias suficientes para rechazar la homocedasticidad en favor de la heterocedasticidad.\n",
        "levene_test = stats.levene(groupA, groupB, center='median')\n",
        "levene_test\n",
        "\n",
        "#En este caso hay heterogeneidad de varianza, por lo que es necesario hacer el test de Welch para prueba de hipotesis"
      ],
      "metadata": {
        "colab": {
          "base_uri": "https://localhost:8080/"
        },
        "id": "q-aJwyFhnnRm",
        "outputId": "7b422951-eaa4-4fc5-a2b2-38020d7f16cf"
      },
      "execution_count": 11,
      "outputs": [
        {
          "output_type": "execute_result",
          "data": {
            "text/plain": [
              "LeveneResult(statistic=23.431491665834244, pvalue=1.3285372646647198e-06)"
            ]
          },
          "metadata": {},
          "execution_count": 11
        }
      ]
    },
    {
      "cell_type": "code",
      "source": [
        "stats.ttest_ind(groupA, groupB, equal_var = False) #Podemos rechazar la Ho de igualdad de medias"
      ],
      "metadata": {
        "colab": {
          "base_uri": "https://localhost:8080/"
        },
        "id": "xA5gAgcLIz_D",
        "outputId": "e265d4b9-fad5-41fd-9ebb-159053015ccc"
      },
      "execution_count": 12,
      "outputs": [
        {
          "output_type": "execute_result",
          "data": {
            "text/plain": [
              "Ttest_indResult(statistic=9.697205976350673, pvalue=8.605197322133209e-22)"
            ]
          },
          "metadata": {},
          "execution_count": 12
        }
      ]
    },
    {
      "cell_type": "markdown",
      "source": [
        "#INTERPRETAR RESULTADO"
      ],
      "metadata": {
        "id": "cO5LD1VSIGg5"
      }
    },
    {
      "cell_type": "markdown",
      "metadata": {
        "id": "8VxiQr5YrQYR"
      },
      "source": [
        "### [Opcional] 2.3 Potencia del test\n",
        "\n",
        "Nuestra muestra, ¿era lo suficientemente grande para detectar si existe o no una diferencia entre los grupos?\n",
        "\n",
        "1. Utilice la función `tt_ind_solve_power` para calcular el tamaño necesario de la muestra para un poder estadístico de 0.8, 0.9 y 0.95, asumiendo una significancia estadística de 0.05.\n",
        "2. ¿Cómo intepretan el poder estadístico de un test? Dado su conocimiento de dominio sobre los datos, ¿les parece que esta muestra es lo suficientemente grande para ser representativo de la tendencia general? ¿y para utilizarlo en un juicio penal contra una empresa XX por una causa de discriminación?\n",
        "\n",
        "[Documentación](https://www.statsmodels.org/stable/generated/statsmodels.stats.power.tt_ind_solve_power.html)\n",
        "\n",
        "NOTA: este análisis debería hacerse ANTES de recolectar los datos."
      ]
    },
    {
      "cell_type": "code",
      "metadata": {
        "colab": {
          "base_uri": "https://localhost:8080/"
        },
        "id": "_IiqGfo4t6Db",
        "outputId": "889a7f28-87cf-4248-9065-60c0cfa90b7d"
      },
      "source": [
        "from statsmodels.stats.power import tt_ind_solve_power"
      ],
      "execution_count": 13,
      "outputs": [
        {
          "output_type": "stream",
          "name": "stderr",
          "text": [
            "/usr/local/lib/python3.7/dist-packages/statsmodels/tools/_testing.py:19: FutureWarning: pandas.util.testing is deprecated. Use the functions in the public API at pandas.testing instead.\n",
            "  import pandas.util.testing as tm\n"
          ]
        }
      ]
    },
    {
      "cell_type": "code",
      "metadata": {
        "id": "LUQ7MA2Apj9x"
      },
      "source": [
        "effect_size = (groupA.mean() - groupB.mean()) / groupB.std()\n",
        "# nobs1=None  - What we want to know\n",
        "alpha = 0.05\n",
        "ratio = len(groupB) / len(groupA)"
      ],
      "execution_count": 14,
      "outputs": []
    },
    {
      "cell_type": "code",
      "metadata": {
        "colab": {
          "base_uri": "https://localhost:8080/",
          "height": 171
        },
        "id": "cvHcpY-3ty8Q",
        "outputId": "386602f8-aaa0-49d3-96e6-cb0971d25631"
      },
      "source": [
        "tt_ind_solve_power(effect_size=effect_size, alpha=alpha, power=power, ratio=ratio)"
      ],
      "execution_count": 15,
      "outputs": [
        {
          "output_type": "error",
          "ename": "NameError",
          "evalue": "ignored",
          "traceback": [
            "\u001b[0;31m---------------------------------------------------------------------------\u001b[0m",
            "\u001b[0;31mNameError\u001b[0m                                 Traceback (most recent call last)",
            "\u001b[0;32m<ipython-input-15-1f79e8a31986>\u001b[0m in \u001b[0;36m<module>\u001b[0;34m()\u001b[0m\n\u001b[0;32m----> 1\u001b[0;31m \u001b[0mtt_ind_solve_power\u001b[0m\u001b[0;34m(\u001b[0m\u001b[0meffect_size\u001b[0m\u001b[0;34m=\u001b[0m\u001b[0meffect_size\u001b[0m\u001b[0;34m,\u001b[0m \u001b[0malpha\u001b[0m\u001b[0;34m=\u001b[0m\u001b[0malpha\u001b[0m\u001b[0;34m,\u001b[0m \u001b[0mpower\u001b[0m\u001b[0;34m=\u001b[0m\u001b[0mpower\u001b[0m\u001b[0;34m,\u001b[0m \u001b[0mratio\u001b[0m\u001b[0;34m=\u001b[0m\u001b[0mratio\u001b[0m\u001b[0;34m)\u001b[0m\u001b[0;34m\u001b[0m\u001b[0;34m\u001b[0m\u001b[0m\n\u001b[0m",
            "\u001b[0;31mNameError\u001b[0m: name 'power' is not defined"
          ]
        }
      ]
    },
    {
      "cell_type": "markdown",
      "metadata": {
        "id": "useKMdPyMod5"
      },
      "source": [
        "## Ejercicio 3: Comunicación y visualización\n",
        "\n",
        "**Consigna:** Seleccionen un resultado que les parezca relevante a partir de alguno de los ejercicios del entregable. Diseñe e implemente una comunicación en base a este mensaje, en un archivo PDF.\n",
        "\n",
        "Elija las palabras y visualización más adecuada para que la comunicación sea entendible, efectiva y se dapte a UNA de las siguientes situaciones:\n",
        "\n",
        "1. Una sección en un artículo de difusión a presentar como parte de una organización sin fines de lucro.\n",
        "No más de 1 página A4 (o dos si los gráficos son muy grandes).\n",
        "  1. Ejemplo: Alguna de las secciones [Los ecosistemas de emprendimiento de América Latina y el Caribe frente al COVID-19: Impactos, necesidades y recomendaciones](https://publications.iadb.org/es/los-ecosistemas-de-emprendimiento-de-america-latina-y-el-caribe-frente-al-covid-19-impactos-necesidades-y-recomendaciones), por ejemplo la sección *2.2. Reacciones de los emprendedores*.\n",
        "  2. Ejemplo: Alguna de las secciones de [The state of gender pay gap in 2021](https://www.payscale.com/data/gender-pay-gap?tk=carousel-ps-rc-job)\n",
        "  3. Puntos clave: \n",
        "    1. Simpleza de los gráficos.\n",
        "    2. Comunicación en lenguaje simple a personas que no son necesariamente expertos de dominio.\n",
        "    2. Selección de UNA oración sobre la que se hace énfasis.\n",
        "    3. No es necesario que mencionen objetivos ni descripciones del conjunto de datos, se supone que eso ya estaría explicado en otras secciones del informe.\n",
        "\n",
        "2. Una publicación científica o reporte técnico interno. No más de una página A4:\n",
        "  2. Ejemplo: La sección de resultados de [IZA DP No. 12914: The Impact of a Minimum Wage Change on the Distribution of Wages and Household Income](https://www.iza.org/publications/dp/12914/the-impact-of-a-minimum-wage-change-on-the-distribution-of-wages-and-household-income).\n",
        "  2. Ejemplo: Alguna de las secciones de [Temporary reduction in daily global CO2 emissions during the COVID-19 forced confinement](https://www.nature.com/articles/s41558-020-0797-x)\n",
        "  3. Puntos clave:\n",
        "    3. Nivel de detalle técnico requerido. Es necesario justificar la validez del análisis.\n",
        "    4. La idea presentada puede ser más compleja. Pueden asumir que la audiencia tiene conocimiento técnico y va a analizar las visualizaciones en detalle. \n",
        "    5. Pueden presentar más en detalle las limitaciones del análisis (significancia estadística, etc.)\n",
        "    2. No es necesario que mencionen objetivos ni descripciones del conjunto de datos, se supone que eso ya estaría explicado en otras secciones del informe.\n",
        "\n",
        "3. Un tweet (o post de LinkedIn) para la cuenta de su empresa consultora que hace análisis de datos. El objetivo es promocionar un análisis de datos abiertos que van a incluir en su portfolio:\n",
        "  1. Ejemplo: [Comparación vacunas covid](https://twitter.com/infobeautiful/status/1381577746527236098?s=20)\n",
        "  2. Ejemplo: [Tweet del BID](https://twitter.com/el_BID/status/1388508583944507396?s=20). Lo valioso de este tweet es que usaron un único número para transmitir un mensaje. Puede ser algo así, o con un gráfico muy simple.\n",
        "  3. Ejemplo: [Cambio climático](https://twitter.com/UNFCCC/status/1387732156190011394?s=20) Es un muy buen ejemplo, excepto que el gráfico no se lee nada y hay que entrar a la publicación original.\n",
        "  3. Ejemplo: [¿Cuánto están los programadores en las empresas?](https://www.linkedin.com/posts/denis-rothman-0b034043_tech-career-work-activity-6793861923269054464-gS6y) (No verificamos la veracidad o seriedad de la fuente).\n",
        "  4. Puntos clave:\n",
        "    1. Su audiencia no va a mirar la visualización por más de unos segundos, y no tiene conocimiento técnico.\n",
        "  3. Tienen que incluir además una *breve* descripción de cómo obtuvieron los datos que están presentando, que no entraría en el tweet.\n"
      ]
    },
    {
      "cell_type": "markdown",
      "source": [
        "--------------------------------------------------------------------------------\n",
        "Para este ejercicio decidimos utilizar los resultados obtenidos en base a las diferencias de sueldo entre varones y mujeres programadores. Dado que vimos que segun el test de Welch hay diferencias significativas, decidimos profundizar el resultado para comunicarlo en forma de probabilidad, ya que consideramos que es mas adecuado para comunicar a los publicos no especialistas."
      ],
      "metadata": {
        "id": "c50NmYy34Ud0"
      }
    }
  ]
}