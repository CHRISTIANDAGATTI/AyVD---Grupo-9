{
  "nbformat": 4,
  "nbformat_minor": 0,
  "metadata": {
    "colab": {
      "name": "CENTRAL Entregable - PARTE 2.ipynb",
      "provenance": [],
      "collapsed_sections": [],
      "include_colab_link": true
    },
    "kernelspec": {
      "name": "python3",
      "display_name": "Python 3"
    }
  },
  "cells": [
    {
      "cell_type": "markdown",
      "metadata": {
        "id": "view-in-github",
        "colab_type": "text"
      },
      "source": [
        "<a href=\"https://colab.research.google.com/github/CHRISTIANDAGATTI/AyVD---Grupo-9/blob/main/CENTRAL_Entregable_PARTE_2.ipynb\" target=\"_parent\"><img src=\"https://colab.research.google.com/assets/colab-badge.svg\" alt=\"Open In Colab\"/></a>"
      ]
    },
    {
      "cell_type": "markdown",
      "metadata": {
        "id": "LYvAOR2VzHmW"
      },
      "source": [
        "\n",
        "\n",
        "\n",
        "**Diplomatura en Ciencia de Datos, Aprendizaje Automático y sus Aplicaciones**\n",
        "\n",
        "**Edición 2022**\n",
        "\n",
        "---\n",
        "\n",
        "# Trabajo práctico entregable - Parte 2"
      ]
    },
    {
      "cell_type": "code",
      "metadata": {
        "id": "Xwdfo7z20TUK"
      },
      "source": [
        "import io\n",
        "import matplotlib\n",
        "import matplotlib.pyplot as plt\n",
        "import numpy\n",
        "import pandas as pd\n",
        "import seaborn as sns\n",
        "from scipy import stats\n",
        "\n",
        "sns.set_context('talk')"
      ],
      "execution_count": 14,
      "outputs": []
    },
    {
      "cell_type": "markdown",
      "metadata": {
        "id": "XY2Hl-Ma07Nn"
      },
      "source": [
        "## Lectura del dataset\n",
        "\n",
        "En la notebook 00 se explican los detalles de la siguiente sección."
      ]
    },
    {
      "cell_type": "code",
      "metadata": {
        "id": "Vviv_sqXdR5W"
      },
      "source": [
        "url = 'https://cs.famaf.unc.edu.ar/~mteruel/datasets/diplodatos/sysarmy_survey_2020_processed.csv'\n",
        "df = pd.read_csv(url)"
      ],
      "execution_count": 15,
      "outputs": []
    },
    {
      "cell_type": "code",
      "metadata": {
        "id": "gckNHXXLktJ4",
        "colab": {
          "base_uri": "https://localhost:8080/",
          "height": 324
        },
        "outputId": "fa3eedb4-ef52-4004-f253-38786d2159ce"
      },
      "source": [
        "df[:3]"
      ],
      "execution_count": 16,
      "outputs": [
        {
          "output_type": "execute_result",
          "data": {
            "text/plain": [
              "  profile_gender  profile_age work_country                    work_province  \\\n",
              "0          Mujer           26    Argentina  Ciudad Autónoma de Buenos Aires   \n",
              "1         Hombre           29    Argentina                       Corrientes   \n",
              "2          Mujer           22    Argentina  Ciudad Autónoma de Buenos Aires   \n",
              "\n",
              "   profile_years_experience  work_years_in_company  \\\n",
              "0                       3.0                    3.0   \n",
              "1                       5.0                    2.0   \n",
              "2                       2.0                    0.0   \n",
              "\n",
              "   work_years_in_current_position  work_people_in_charge_of  \\\n",
              "0                             3.0                         0   \n",
              "1                             2.0                         4   \n",
              "2                             0.0                         0   \n",
              "\n",
              "  profile_studies_level profile_studies_level_state  ...  \\\n",
              "0         Universitario                    En curso  ...   \n",
              "1         Universitario                    En curso  ...   \n",
              "2            Secundario                  Completado  ...   \n",
              "\n",
              "  work_has_violence_situations profile_sexual_orientation  \\\n",
              "0         En mi trabajo actual                 Homosexual   \n",
              "1                        Jamás               Heterosexual   \n",
              "2       En un trabajo anterior           Bisexual o queer   \n",
              "\n",
              "  profile_has_disabilities profile_has_disabilities_hiring_difficulties  \\\n",
              "0                      NaN                                          NaN   \n",
              "1                   Visual                                           No   \n",
              "2                      NaN                                           No   \n",
              "\n",
              "  company_employee_number                          company_main_activity  \\\n",
              "0                501-1000  Servicios / Consultoría de Software / Digital   \n",
              "1                 201-500                               Otras industrias   \n",
              "2               2001-5000                               Otras industrias   \n",
              "\n",
              "  company_recommended company_diversity_policies  \\\n",
              "0                   7                          2   \n",
              "1                   8                          9   \n",
              "2                   6                          9   \n",
              "\n",
              "                              company_extra_benefits  \\\n",
              "0  Capacitaciones y/o cursos, Comidas pagas / sub...   \n",
              "1  Horarios flexibles, Stock options / RSUs, Viát...   \n",
              "2  Clases de gimnasia online, Comidas pagas / sub...   \n",
              "\n",
              "  company_best_companies_city  \n",
              "0                         NaN  \n",
              "1                         NaN  \n",
              "2                         NaN  \n",
              "\n",
              "[3 rows x 48 columns]"
            ],
            "text/html": [
              "\n",
              "  <div id=\"df-c6197f98-438a-42cf-927a-aa2665289469\">\n",
              "    <div class=\"colab-df-container\">\n",
              "      <div>\n",
              "<style scoped>\n",
              "    .dataframe tbody tr th:only-of-type {\n",
              "        vertical-align: middle;\n",
              "    }\n",
              "\n",
              "    .dataframe tbody tr th {\n",
              "        vertical-align: top;\n",
              "    }\n",
              "\n",
              "    .dataframe thead th {\n",
              "        text-align: right;\n",
              "    }\n",
              "</style>\n",
              "<table border=\"1\" class=\"dataframe\">\n",
              "  <thead>\n",
              "    <tr style=\"text-align: right;\">\n",
              "      <th></th>\n",
              "      <th>profile_gender</th>\n",
              "      <th>profile_age</th>\n",
              "      <th>work_country</th>\n",
              "      <th>work_province</th>\n",
              "      <th>profile_years_experience</th>\n",
              "      <th>work_years_in_company</th>\n",
              "      <th>work_years_in_current_position</th>\n",
              "      <th>work_people_in_charge_of</th>\n",
              "      <th>profile_studies_level</th>\n",
              "      <th>profile_studies_level_state</th>\n",
              "      <th>...</th>\n",
              "      <th>work_has_violence_situations</th>\n",
              "      <th>profile_sexual_orientation</th>\n",
              "      <th>profile_has_disabilities</th>\n",
              "      <th>profile_has_disabilities_hiring_difficulties</th>\n",
              "      <th>company_employee_number</th>\n",
              "      <th>company_main_activity</th>\n",
              "      <th>company_recommended</th>\n",
              "      <th>company_diversity_policies</th>\n",
              "      <th>company_extra_benefits</th>\n",
              "      <th>company_best_companies_city</th>\n",
              "    </tr>\n",
              "  </thead>\n",
              "  <tbody>\n",
              "    <tr>\n",
              "      <th>0</th>\n",
              "      <td>Mujer</td>\n",
              "      <td>26</td>\n",
              "      <td>Argentina</td>\n",
              "      <td>Ciudad Autónoma de Buenos Aires</td>\n",
              "      <td>3.0</td>\n",
              "      <td>3.0</td>\n",
              "      <td>3.0</td>\n",
              "      <td>0</td>\n",
              "      <td>Universitario</td>\n",
              "      <td>En curso</td>\n",
              "      <td>...</td>\n",
              "      <td>En mi trabajo actual</td>\n",
              "      <td>Homosexual</td>\n",
              "      <td>NaN</td>\n",
              "      <td>NaN</td>\n",
              "      <td>501-1000</td>\n",
              "      <td>Servicios / Consultoría de Software / Digital</td>\n",
              "      <td>7</td>\n",
              "      <td>2</td>\n",
              "      <td>Capacitaciones y/o cursos, Comidas pagas / sub...</td>\n",
              "      <td>NaN</td>\n",
              "    </tr>\n",
              "    <tr>\n",
              "      <th>1</th>\n",
              "      <td>Hombre</td>\n",
              "      <td>29</td>\n",
              "      <td>Argentina</td>\n",
              "      <td>Corrientes</td>\n",
              "      <td>5.0</td>\n",
              "      <td>2.0</td>\n",
              "      <td>2.0</td>\n",
              "      <td>4</td>\n",
              "      <td>Universitario</td>\n",
              "      <td>En curso</td>\n",
              "      <td>...</td>\n",
              "      <td>Jamás</td>\n",
              "      <td>Heterosexual</td>\n",
              "      <td>Visual</td>\n",
              "      <td>No</td>\n",
              "      <td>201-500</td>\n",
              "      <td>Otras industrias</td>\n",
              "      <td>8</td>\n",
              "      <td>9</td>\n",
              "      <td>Horarios flexibles, Stock options / RSUs, Viát...</td>\n",
              "      <td>NaN</td>\n",
              "    </tr>\n",
              "    <tr>\n",
              "      <th>2</th>\n",
              "      <td>Mujer</td>\n",
              "      <td>22</td>\n",
              "      <td>Argentina</td>\n",
              "      <td>Ciudad Autónoma de Buenos Aires</td>\n",
              "      <td>2.0</td>\n",
              "      <td>0.0</td>\n",
              "      <td>0.0</td>\n",
              "      <td>0</td>\n",
              "      <td>Secundario</td>\n",
              "      <td>Completado</td>\n",
              "      <td>...</td>\n",
              "      <td>En un trabajo anterior</td>\n",
              "      <td>Bisexual o queer</td>\n",
              "      <td>NaN</td>\n",
              "      <td>No</td>\n",
              "      <td>2001-5000</td>\n",
              "      <td>Otras industrias</td>\n",
              "      <td>6</td>\n",
              "      <td>9</td>\n",
              "      <td>Clases de gimnasia online, Comidas pagas / sub...</td>\n",
              "      <td>NaN</td>\n",
              "    </tr>\n",
              "  </tbody>\n",
              "</table>\n",
              "<p>3 rows × 48 columns</p>\n",
              "</div>\n",
              "      <button class=\"colab-df-convert\" onclick=\"convertToInteractive('df-c6197f98-438a-42cf-927a-aa2665289469')\"\n",
              "              title=\"Convert this dataframe to an interactive table.\"\n",
              "              style=\"display:none;\">\n",
              "        \n",
              "  <svg xmlns=\"http://www.w3.org/2000/svg\" height=\"24px\"viewBox=\"0 0 24 24\"\n",
              "       width=\"24px\">\n",
              "    <path d=\"M0 0h24v24H0V0z\" fill=\"none\"/>\n",
              "    <path d=\"M18.56 5.44l.94 2.06.94-2.06 2.06-.94-2.06-.94-.94-2.06-.94 2.06-2.06.94zm-11 1L8.5 8.5l.94-2.06 2.06-.94-2.06-.94L8.5 2.5l-.94 2.06-2.06.94zm10 10l.94 2.06.94-2.06 2.06-.94-2.06-.94-.94-2.06-.94 2.06-2.06.94z\"/><path d=\"M17.41 7.96l-1.37-1.37c-.4-.4-.92-.59-1.43-.59-.52 0-1.04.2-1.43.59L10.3 9.45l-7.72 7.72c-.78.78-.78 2.05 0 2.83L4 21.41c.39.39.9.59 1.41.59.51 0 1.02-.2 1.41-.59l7.78-7.78 2.81-2.81c.8-.78.8-2.07 0-2.86zM5.41 20L4 18.59l7.72-7.72 1.47 1.35L5.41 20z\"/>\n",
              "  </svg>\n",
              "      </button>\n",
              "      \n",
              "  <style>\n",
              "    .colab-df-container {\n",
              "      display:flex;\n",
              "      flex-wrap:wrap;\n",
              "      gap: 12px;\n",
              "    }\n",
              "\n",
              "    .colab-df-convert {\n",
              "      background-color: #E8F0FE;\n",
              "      border: none;\n",
              "      border-radius: 50%;\n",
              "      cursor: pointer;\n",
              "      display: none;\n",
              "      fill: #1967D2;\n",
              "      height: 32px;\n",
              "      padding: 0 0 0 0;\n",
              "      width: 32px;\n",
              "    }\n",
              "\n",
              "    .colab-df-convert:hover {\n",
              "      background-color: #E2EBFA;\n",
              "      box-shadow: 0px 1px 2px rgba(60, 64, 67, 0.3), 0px 1px 3px 1px rgba(60, 64, 67, 0.15);\n",
              "      fill: #174EA6;\n",
              "    }\n",
              "\n",
              "    [theme=dark] .colab-df-convert {\n",
              "      background-color: #3B4455;\n",
              "      fill: #D2E3FC;\n",
              "    }\n",
              "\n",
              "    [theme=dark] .colab-df-convert:hover {\n",
              "      background-color: #434B5C;\n",
              "      box-shadow: 0px 1px 3px 1px rgba(0, 0, 0, 0.15);\n",
              "      filter: drop-shadow(0px 1px 2px rgba(0, 0, 0, 0.3));\n",
              "      fill: #FFFFFF;\n",
              "    }\n",
              "  </style>\n",
              "\n",
              "      <script>\n",
              "        const buttonEl =\n",
              "          document.querySelector('#df-c6197f98-438a-42cf-927a-aa2665289469 button.colab-df-convert');\n",
              "        buttonEl.style.display =\n",
              "          google.colab.kernel.accessAllowed ? 'block' : 'none';\n",
              "\n",
              "        async function convertToInteractive(key) {\n",
              "          const element = document.querySelector('#df-c6197f98-438a-42cf-927a-aa2665289469');\n",
              "          const dataTable =\n",
              "            await google.colab.kernel.invokeFunction('convertToInteractive',\n",
              "                                                     [key], {});\n",
              "          if (!dataTable) return;\n",
              "\n",
              "          const docLinkHtml = 'Like what you see? Visit the ' +\n",
              "            '<a target=\"_blank\" href=https://colab.research.google.com/notebooks/data_table.ipynb>data table notebook</a>'\n",
              "            + ' to learn more about interactive tables.';\n",
              "          element.innerHTML = '';\n",
              "          dataTable['output_type'] = 'display_data';\n",
              "          await google.colab.output.renderOutput(dataTable, element);\n",
              "          const docLink = document.createElement('div');\n",
              "          docLink.innerHTML = docLinkHtml;\n",
              "          element.appendChild(docLink);\n",
              "        }\n",
              "      </script>\n",
              "    </div>\n",
              "  </div>\n",
              "  "
            ]
          },
          "metadata": {},
          "execution_count": 16
        }
      ]
    },
    {
      "cell_type": "code",
      "metadata": {
        "id": "2lzmzK1NuPNT",
        "colab": {
          "base_uri": "https://localhost:8080/",
          "height": 206
        },
        "outputId": "083e1e53-dc80-4180-d577-a59cf5654171"
      },
      "source": [
        "df[['profile_gender', 'salary_monthly_NETO']].groupby('profile_gender').describe()"
      ],
      "execution_count": 17,
      "outputs": [
        {
          "output_type": "execute_result",
          "data": {
            "text/plain": [
              "               salary_monthly_NETO                                     \\\n",
              "                             count          mean            std   min   \n",
              "profile_gender                                                          \n",
              "Hombre                      4944.0  98836.063558  102159.664237   1.0   \n",
              "Mujer                        908.0  73501.414465   56256.880181   2.0   \n",
              "Otros                         31.0  95441.354839   88635.674358  40.0   \n",
              "\n",
              "                                                       \n",
              "                    25%      50%       75%        max  \n",
              "profile_gender                                         \n",
              "Hombre          53285.0  80000.0  110000.0  2080000.0  \n",
              "Mujer           43818.0  65000.0   92000.0   800000.0  \n",
              "Otros           39500.0  74000.0  117500.0   380000.0  "
            ],
            "text/html": [
              "\n",
              "  <div id=\"df-66057bdc-f3b0-4ff0-a5d9-fff344bf9d30\">\n",
              "    <div class=\"colab-df-container\">\n",
              "      <div>\n",
              "<style scoped>\n",
              "    .dataframe tbody tr th:only-of-type {\n",
              "        vertical-align: middle;\n",
              "    }\n",
              "\n",
              "    .dataframe tbody tr th {\n",
              "        vertical-align: top;\n",
              "    }\n",
              "\n",
              "    .dataframe thead tr th {\n",
              "        text-align: left;\n",
              "    }\n",
              "\n",
              "    .dataframe thead tr:last-of-type th {\n",
              "        text-align: right;\n",
              "    }\n",
              "</style>\n",
              "<table border=\"1\" class=\"dataframe\">\n",
              "  <thead>\n",
              "    <tr>\n",
              "      <th></th>\n",
              "      <th colspan=\"8\" halign=\"left\">salary_monthly_NETO</th>\n",
              "    </tr>\n",
              "    <tr>\n",
              "      <th></th>\n",
              "      <th>count</th>\n",
              "      <th>mean</th>\n",
              "      <th>std</th>\n",
              "      <th>min</th>\n",
              "      <th>25%</th>\n",
              "      <th>50%</th>\n",
              "      <th>75%</th>\n",
              "      <th>max</th>\n",
              "    </tr>\n",
              "    <tr>\n",
              "      <th>profile_gender</th>\n",
              "      <th></th>\n",
              "      <th></th>\n",
              "      <th></th>\n",
              "      <th></th>\n",
              "      <th></th>\n",
              "      <th></th>\n",
              "      <th></th>\n",
              "      <th></th>\n",
              "    </tr>\n",
              "  </thead>\n",
              "  <tbody>\n",
              "    <tr>\n",
              "      <th>Hombre</th>\n",
              "      <td>4944.0</td>\n",
              "      <td>98836.063558</td>\n",
              "      <td>102159.664237</td>\n",
              "      <td>1.0</td>\n",
              "      <td>53285.0</td>\n",
              "      <td>80000.0</td>\n",
              "      <td>110000.0</td>\n",
              "      <td>2080000.0</td>\n",
              "    </tr>\n",
              "    <tr>\n",
              "      <th>Mujer</th>\n",
              "      <td>908.0</td>\n",
              "      <td>73501.414465</td>\n",
              "      <td>56256.880181</td>\n",
              "      <td>2.0</td>\n",
              "      <td>43818.0</td>\n",
              "      <td>65000.0</td>\n",
              "      <td>92000.0</td>\n",
              "      <td>800000.0</td>\n",
              "    </tr>\n",
              "    <tr>\n",
              "      <th>Otros</th>\n",
              "      <td>31.0</td>\n",
              "      <td>95441.354839</td>\n",
              "      <td>88635.674358</td>\n",
              "      <td>40.0</td>\n",
              "      <td>39500.0</td>\n",
              "      <td>74000.0</td>\n",
              "      <td>117500.0</td>\n",
              "      <td>380000.0</td>\n",
              "    </tr>\n",
              "  </tbody>\n",
              "</table>\n",
              "</div>\n",
              "      <button class=\"colab-df-convert\" onclick=\"convertToInteractive('df-66057bdc-f3b0-4ff0-a5d9-fff344bf9d30')\"\n",
              "              title=\"Convert this dataframe to an interactive table.\"\n",
              "              style=\"display:none;\">\n",
              "        \n",
              "  <svg xmlns=\"http://www.w3.org/2000/svg\" height=\"24px\"viewBox=\"0 0 24 24\"\n",
              "       width=\"24px\">\n",
              "    <path d=\"M0 0h24v24H0V0z\" fill=\"none\"/>\n",
              "    <path d=\"M18.56 5.44l.94 2.06.94-2.06 2.06-.94-2.06-.94-.94-2.06-.94 2.06-2.06.94zm-11 1L8.5 8.5l.94-2.06 2.06-.94-2.06-.94L8.5 2.5l-.94 2.06-2.06.94zm10 10l.94 2.06.94-2.06 2.06-.94-2.06-.94-.94-2.06-.94 2.06-2.06.94z\"/><path d=\"M17.41 7.96l-1.37-1.37c-.4-.4-.92-.59-1.43-.59-.52 0-1.04.2-1.43.59L10.3 9.45l-7.72 7.72c-.78.78-.78 2.05 0 2.83L4 21.41c.39.39.9.59 1.41.59.51 0 1.02-.2 1.41-.59l7.78-7.78 2.81-2.81c.8-.78.8-2.07 0-2.86zM5.41 20L4 18.59l7.72-7.72 1.47 1.35L5.41 20z\"/>\n",
              "  </svg>\n",
              "      </button>\n",
              "      \n",
              "  <style>\n",
              "    .colab-df-container {\n",
              "      display:flex;\n",
              "      flex-wrap:wrap;\n",
              "      gap: 12px;\n",
              "    }\n",
              "\n",
              "    .colab-df-convert {\n",
              "      background-color: #E8F0FE;\n",
              "      border: none;\n",
              "      border-radius: 50%;\n",
              "      cursor: pointer;\n",
              "      display: none;\n",
              "      fill: #1967D2;\n",
              "      height: 32px;\n",
              "      padding: 0 0 0 0;\n",
              "      width: 32px;\n",
              "    }\n",
              "\n",
              "    .colab-df-convert:hover {\n",
              "      background-color: #E2EBFA;\n",
              "      box-shadow: 0px 1px 2px rgba(60, 64, 67, 0.3), 0px 1px 3px 1px rgba(60, 64, 67, 0.15);\n",
              "      fill: #174EA6;\n",
              "    }\n",
              "\n",
              "    [theme=dark] .colab-df-convert {\n",
              "      background-color: #3B4455;\n",
              "      fill: #D2E3FC;\n",
              "    }\n",
              "\n",
              "    [theme=dark] .colab-df-convert:hover {\n",
              "      background-color: #434B5C;\n",
              "      box-shadow: 0px 1px 3px 1px rgba(0, 0, 0, 0.15);\n",
              "      filter: drop-shadow(0px 1px 2px rgba(0, 0, 0, 0.3));\n",
              "      fill: #FFFFFF;\n",
              "    }\n",
              "  </style>\n",
              "\n",
              "      <script>\n",
              "        const buttonEl =\n",
              "          document.querySelector('#df-66057bdc-f3b0-4ff0-a5d9-fff344bf9d30 button.colab-df-convert');\n",
              "        buttonEl.style.display =\n",
              "          google.colab.kernel.accessAllowed ? 'block' : 'none';\n",
              "\n",
              "        async function convertToInteractive(key) {\n",
              "          const element = document.querySelector('#df-66057bdc-f3b0-4ff0-a5d9-fff344bf9d30');\n",
              "          const dataTable =\n",
              "            await google.colab.kernel.invokeFunction('convertToInteractive',\n",
              "                                                     [key], {});\n",
              "          if (!dataTable) return;\n",
              "\n",
              "          const docLinkHtml = 'Like what you see? Visit the ' +\n",
              "            '<a target=\"_blank\" href=https://colab.research.google.com/notebooks/data_table.ipynb>data table notebook</a>'\n",
              "            + ' to learn more about interactive tables.';\n",
              "          element.innerHTML = '';\n",
              "          dataTable['output_type'] = 'display_data';\n",
              "          await google.colab.output.renderOutput(dataTable, element);\n",
              "          const docLink = document.createElement('div');\n",
              "          docLink.innerHTML = docLinkHtml;\n",
              "          element.appendChild(docLink);\n",
              "        }\n",
              "      </script>\n",
              "    </div>\n",
              "  </div>\n",
              "  "
            ]
          },
          "metadata": {},
          "execution_count": 17
        }
      ]
    },
    {
      "cell_type": "code",
      "metadata": {
        "colab": {
          "base_uri": "https://localhost:8080/",
          "height": 206
        },
        "id": "pycKJ5jWkShW",
        "outputId": "b73fbef1-c27d-4c77-8aee-9a079c28b2e6"
      },
      "source": [
        "df[df.salary_monthly_NETO > 1000]\\\n",
        "  [['profile_gender', 'salary_monthly_NETO']].groupby('profile_gender').describe()"
      ],
      "execution_count": 18,
      "outputs": [
        {
          "output_type": "execute_result",
          "data": {
            "text/plain": [
              "               salary_monthly_NETO                                         \\\n",
              "                             count           mean            std      min   \n",
              "profile_gender                                                              \n",
              "Hombre                      4815.0  101481.624343  102215.304684   1100.0   \n",
              "Mujer                        863.0   77328.913778   55082.760570   2000.0   \n",
              "Otros                         28.0  105660.714286   87235.710235  34000.0   \n",
              "\n",
              "                                                       \n",
              "                    25%      50%       75%        max  \n",
              "profile_gender                                         \n",
              "Hombre          55000.0  80000.0  110000.0  2080000.0  \n",
              "Mujer           47850.0  67200.0   93000.0   800000.0  \n",
              "Otros           43750.0  78900.0  122750.0   380000.0  "
            ],
            "text/html": [
              "\n",
              "  <div id=\"df-01e78f98-56b2-4329-8293-93092cf66a77\">\n",
              "    <div class=\"colab-df-container\">\n",
              "      <div>\n",
              "<style scoped>\n",
              "    .dataframe tbody tr th:only-of-type {\n",
              "        vertical-align: middle;\n",
              "    }\n",
              "\n",
              "    .dataframe tbody tr th {\n",
              "        vertical-align: top;\n",
              "    }\n",
              "\n",
              "    .dataframe thead tr th {\n",
              "        text-align: left;\n",
              "    }\n",
              "\n",
              "    .dataframe thead tr:last-of-type th {\n",
              "        text-align: right;\n",
              "    }\n",
              "</style>\n",
              "<table border=\"1\" class=\"dataframe\">\n",
              "  <thead>\n",
              "    <tr>\n",
              "      <th></th>\n",
              "      <th colspan=\"8\" halign=\"left\">salary_monthly_NETO</th>\n",
              "    </tr>\n",
              "    <tr>\n",
              "      <th></th>\n",
              "      <th>count</th>\n",
              "      <th>mean</th>\n",
              "      <th>std</th>\n",
              "      <th>min</th>\n",
              "      <th>25%</th>\n",
              "      <th>50%</th>\n",
              "      <th>75%</th>\n",
              "      <th>max</th>\n",
              "    </tr>\n",
              "    <tr>\n",
              "      <th>profile_gender</th>\n",
              "      <th></th>\n",
              "      <th></th>\n",
              "      <th></th>\n",
              "      <th></th>\n",
              "      <th></th>\n",
              "      <th></th>\n",
              "      <th></th>\n",
              "      <th></th>\n",
              "    </tr>\n",
              "  </thead>\n",
              "  <tbody>\n",
              "    <tr>\n",
              "      <th>Hombre</th>\n",
              "      <td>4815.0</td>\n",
              "      <td>101481.624343</td>\n",
              "      <td>102215.304684</td>\n",
              "      <td>1100.0</td>\n",
              "      <td>55000.0</td>\n",
              "      <td>80000.0</td>\n",
              "      <td>110000.0</td>\n",
              "      <td>2080000.0</td>\n",
              "    </tr>\n",
              "    <tr>\n",
              "      <th>Mujer</th>\n",
              "      <td>863.0</td>\n",
              "      <td>77328.913778</td>\n",
              "      <td>55082.760570</td>\n",
              "      <td>2000.0</td>\n",
              "      <td>47850.0</td>\n",
              "      <td>67200.0</td>\n",
              "      <td>93000.0</td>\n",
              "      <td>800000.0</td>\n",
              "    </tr>\n",
              "    <tr>\n",
              "      <th>Otros</th>\n",
              "      <td>28.0</td>\n",
              "      <td>105660.714286</td>\n",
              "      <td>87235.710235</td>\n",
              "      <td>34000.0</td>\n",
              "      <td>43750.0</td>\n",
              "      <td>78900.0</td>\n",
              "      <td>122750.0</td>\n",
              "      <td>380000.0</td>\n",
              "    </tr>\n",
              "  </tbody>\n",
              "</table>\n",
              "</div>\n",
              "      <button class=\"colab-df-convert\" onclick=\"convertToInteractive('df-01e78f98-56b2-4329-8293-93092cf66a77')\"\n",
              "              title=\"Convert this dataframe to an interactive table.\"\n",
              "              style=\"display:none;\">\n",
              "        \n",
              "  <svg xmlns=\"http://www.w3.org/2000/svg\" height=\"24px\"viewBox=\"0 0 24 24\"\n",
              "       width=\"24px\">\n",
              "    <path d=\"M0 0h24v24H0V0z\" fill=\"none\"/>\n",
              "    <path d=\"M18.56 5.44l.94 2.06.94-2.06 2.06-.94-2.06-.94-.94-2.06-.94 2.06-2.06.94zm-11 1L8.5 8.5l.94-2.06 2.06-.94-2.06-.94L8.5 2.5l-.94 2.06-2.06.94zm10 10l.94 2.06.94-2.06 2.06-.94-2.06-.94-.94-2.06-.94 2.06-2.06.94z\"/><path d=\"M17.41 7.96l-1.37-1.37c-.4-.4-.92-.59-1.43-.59-.52 0-1.04.2-1.43.59L10.3 9.45l-7.72 7.72c-.78.78-.78 2.05 0 2.83L4 21.41c.39.39.9.59 1.41.59.51 0 1.02-.2 1.41-.59l7.78-7.78 2.81-2.81c.8-.78.8-2.07 0-2.86zM5.41 20L4 18.59l7.72-7.72 1.47 1.35L5.41 20z\"/>\n",
              "  </svg>\n",
              "      </button>\n",
              "      \n",
              "  <style>\n",
              "    .colab-df-container {\n",
              "      display:flex;\n",
              "      flex-wrap:wrap;\n",
              "      gap: 12px;\n",
              "    }\n",
              "\n",
              "    .colab-df-convert {\n",
              "      background-color: #E8F0FE;\n",
              "      border: none;\n",
              "      border-radius: 50%;\n",
              "      cursor: pointer;\n",
              "      display: none;\n",
              "      fill: #1967D2;\n",
              "      height: 32px;\n",
              "      padding: 0 0 0 0;\n",
              "      width: 32px;\n",
              "    }\n",
              "\n",
              "    .colab-df-convert:hover {\n",
              "      background-color: #E2EBFA;\n",
              "      box-shadow: 0px 1px 2px rgba(60, 64, 67, 0.3), 0px 1px 3px 1px rgba(60, 64, 67, 0.15);\n",
              "      fill: #174EA6;\n",
              "    }\n",
              "\n",
              "    [theme=dark] .colab-df-convert {\n",
              "      background-color: #3B4455;\n",
              "      fill: #D2E3FC;\n",
              "    }\n",
              "\n",
              "    [theme=dark] .colab-df-convert:hover {\n",
              "      background-color: #434B5C;\n",
              "      box-shadow: 0px 1px 3px 1px rgba(0, 0, 0, 0.15);\n",
              "      filter: drop-shadow(0px 1px 2px rgba(0, 0, 0, 0.3));\n",
              "      fill: #FFFFFF;\n",
              "    }\n",
              "  </style>\n",
              "\n",
              "      <script>\n",
              "        const buttonEl =\n",
              "          document.querySelector('#df-01e78f98-56b2-4329-8293-93092cf66a77 button.colab-df-convert');\n",
              "        buttonEl.style.display =\n",
              "          google.colab.kernel.accessAllowed ? 'block' : 'none';\n",
              "\n",
              "        async function convertToInteractive(key) {\n",
              "          const element = document.querySelector('#df-01e78f98-56b2-4329-8293-93092cf66a77');\n",
              "          const dataTable =\n",
              "            await google.colab.kernel.invokeFunction('convertToInteractive',\n",
              "                                                     [key], {});\n",
              "          if (!dataTable) return;\n",
              "\n",
              "          const docLinkHtml = 'Like what you see? Visit the ' +\n",
              "            '<a target=\"_blank\" href=https://colab.research.google.com/notebooks/data_table.ipynb>data table notebook</a>'\n",
              "            + ' to learn more about interactive tables.';\n",
              "          element.innerHTML = '';\n",
              "          dataTable['output_type'] = 'display_data';\n",
              "          await google.colab.output.renderOutput(dataTable, element);\n",
              "          const docLink = document.createElement('div');\n",
              "          docLink.innerHTML = docLinkHtml;\n",
              "          element.appendChild(docLink);\n",
              "        }\n",
              "      </script>\n",
              "    </div>\n",
              "  </div>\n",
              "  "
            ]
          },
          "metadata": {},
          "execution_count": 18
        }
      ]
    },
    {
      "cell_type": "code",
      "metadata": {
        "id": "uZ1GxkLylHx0"
      },
      "source": [
        "alpha = 0.05"
      ],
      "execution_count": 19,
      "outputs": []
    },
    {
      "cell_type": "code",
      "metadata": {
        "id": "OfzFpDO-lYxk",
        "colab": {
          "base_uri": "https://localhost:8080/"
        },
        "outputId": "b3f07eb2-2e1c-46bf-cca1-ad57cf3eccb6"
      },
      "source": [
        "is_man = df.profile_gender == 'Hombre'\n",
        "\n",
        "groupA = df[(df.salary_monthly_NETO > 1000) & is_man].salary_monthly_NETO\n",
        "groupB = df[(df.salary_monthly_NETO > 1000) & ~is_man].salary_monthly_NETO\n",
        "\n",
        "nA=len(groupA)\n",
        "print('nA:', nA)\n",
        "\n",
        "nB=len(groupB)\n",
        "print('nB:', nB)\n"
      ],
      "execution_count": 20,
      "outputs": [
        {
          "output_type": "stream",
          "name": "stdout",
          "text": [
            "nA: 4815\n",
            "nB: 891\n"
          ]
        }
      ]
    },
    {
      "cell_type": "markdown",
      "metadata": {
        "id": "co_0M_ojtmUh"
      },
      "source": [
        "## Ejercicio 1: Estimación\n",
        "\n",
        "**Consigna:**  Calcular una estimación puntual y un intervalo de confianza de nivel (1-alpha) para la resta entre la media del salario Neto para Hombres menos la media del salario Neto para otros géneros(diferencia de las medias entre el grupoA y grupoB). \n",
        "¿Cómo se relaciona este intervalo de confianza con el test de hipótesis?"
      ]
    },
    {
      "cell_type": "code",
      "metadata": {
        "id": "0fA1RQ0upe6N",
        "colab": {
          "base_uri": "https://localhost:8080/"
        },
        "outputId": "00174548-da8b-4a64-d0b2-1424210e94d9"
      },
      "source": [
        "#estimacion de media e intervalos de confianza para Hombres\n",
        "alpha = 0.05\n",
        "z_0975 = 1.96\n",
        "media=groupA.mean()\n",
        "std=groupA.std()\n",
        "estadistico_liminf =media-(std*z_0975/numpy.sqrt(nA))\n",
        "estadistico_limsup =media+(std*z_0975/numpy.sqrt(nA))\n",
        "print(\"liminf=\", estadistico_liminf,\"limsup=\", estadistico_limsup)\n",
        "print(\"Dif=\", estadistico_limsup-estadistico_liminf)\n",
        "print(\"media=\", media)\n",
        "print(\"std=\",std)"
      ],
      "execution_count": 21,
      "outputs": [
        {
          "output_type": "stream",
          "name": "stdout",
          "text": [
            "liminf= 98594.4443923896 limsup= 104368.80429296875\n",
            "Dif= 5774.3599005791475\n",
            "media= 101481.62434267918\n",
            "std= 102215.30468444877\n"
          ]
        }
      ]
    },
    {
      "cell_type": "code",
      "source": [
        "#estimacion de media e intervalos de confianza para NO Hombres\n",
        "alpha = 0.05\n",
        "z_0975 = 1.96\n",
        "mediaB=groupB.mean()\n",
        "stdB=groupB.std()\n",
        "estadistico_liminfB =mediaB-(stdB*z_0975/numpy.sqrt(nB))\n",
        "estadistico_limsupB =mediaB+(stdB*z_0975/numpy.sqrt(nB))\n",
        "print(\"liminf=\", estadistico_liminfB,\"limsup=\", estadistico_limsupB)\n",
        "print(\"Dif=\", estadistico_limsupB-estadistico_liminfB)\n",
        "print(\"media=\", mediaB)\n",
        "print(\"std=\",stdB)"
      ],
      "metadata": {
        "colab": {
          "base_uri": "https://localhost:8080/"
        },
        "id": "EFekDueUZ9vO",
        "outputId": "43638c52-7b80-4f89-b97c-23e41afb1f63"
      },
      "execution_count": 22,
      "outputs": [
        {
          "output_type": "stream",
          "name": "stdout",
          "text": [
            "liminf= 74508.31492410542 limsup= 81930.18696141648\n",
            "Dif= 7421.8720373110555\n",
            "media= 78219.25094276095\n",
            "std= 56515.32732350074\n"
          ]
        }
      ]
    },
    {
      "cell_type": "code",
      "source": [
        "#estimacion de media e intervalos de confianza para la Diferencia entre las medias\n",
        "alpha = 0.05\n",
        "z_0975 = 1.96\n",
        "difmedias=groupA.mean() - groupB.mean()\n",
        "estadistico_liminfDif =difmedias-z_0975*numpy.sqrt(std**2/nA+stdB**2/nB)\n",
        "estadistico_limsupDif =difmedias+z_0975*numpy.sqrt(std**2/nA+stdB**2/nB)\n",
        "print(\"liminf=\", estadistico_liminfDif,\"limsup=\", estadistico_limsupDif)\n",
        "print(\"Dif=\", estadistico_limsupDif-estadistico_liminfDif)\n",
        "print(\"media=\", difmedias)"
      ],
      "metadata": {
        "colab": {
          "base_uri": "https://localhost:8080/"
        },
        "id": "YzUhKK9obB9e",
        "outputId": "39aca3e8-b24c-4118-8a5a-69f666c2b74b"
      },
      "execution_count": 23,
      "outputs": [
        {
          "output_type": "stream",
          "name": "stdout",
          "text": [
            "liminf= 18560.5807418027 limsup= 27964.16605803376\n",
            "Dif= 9403.58531623106\n",
            "media= 23262.37339991823\n"
          ]
        }
      ]
    },
    {
      "cell_type": "markdown",
      "source": [
        "**¿Cómo se relaciona este intervalo de confianza con el test de hipótesis?**\n",
        "\n",
        "El t-test, también conocido como prueba t de Student, es un test estadístico empleado para analizar si dos muestras proceden de poblaciones con la misma media. Para ello, cuantifica la diferencia entre la media de las dos muestras y, teniendo en cuenta la varianza de estas, estima cómo de probable es obtener una diferencia igual o mayor que la observada si la hipótesis nula de que las medias poblacionales son iguales fuese cierta. A la probabilidad estimada por el test se le conoce como p-value.\n",
        "\n",
        "Un p-value mayor que un determinado límite, por ejemplo 5% o 1%, indica que la diferencia observada puede deberse al azar, por lo que no se rechaza la hipótesis nula. Por el contrario, cuando el p-value es menor que el límite seleccionado, se considera que existen evidencias suficientes para rechazar que las muestras proceden de poblaciones con misma media.\n",
        "\n",
        "Cuando se dispone de dos muestras, el hecho de que sus valores promedio no sean exactamente iguales no implica que haya evidencias de una diferencia real. Dado que cada muestra tiene su propia variabilidad debida al muestreo aleatorio, aunque procedan de la misma población, las medias muestrales no tienen por qué ser iguales. Es aquí donde el t-test aporta valor. Es un test estadístico para comparar la media entre dos muestras.\n",
        "\n",
        "El estadístico t sigue una distribución conocida como distribución t de Student. Esta distribución se asemeja en gran medida a la distribución normal, tiene como parámetros la media, la varianza y además, a través de los grados de libertad, permite flexibilizar las colas en función del tamaño que tenga la muestra.\n",
        "\n",
        "El proceso a seguir para calcular intervalos de confianza o test de hipótesis es el mismo que el seguido en el modelo Normal. La única diferencia es que, en lugar de emplear Z-scores (cuantiles de la distribución normal), se emplean los T-scores (cuantiles de la distribución t-student)."
      ],
      "metadata": {
        "id": "Tb0b8p67iVdM"
      }
    },
    {
      "cell_type": "markdown",
      "metadata": {
        "id": "IFi2T7Y6nM92"
      },
      "source": [
        "## Ejercicio 2: Test de hipótesis\n"
      ]
    },
    {
      "cell_type": "markdown",
      "metadata": {
        "id": "Rzxe8UYU6EfJ"
      },
      "source": [
        "\n",
        "### 2.1 Formalización\n",
        "\n",
        "Describir formalmente los distintos componentes de un test de hipótesis para comprobar si la distribución de los salarios es distinta entre los grupos A y B.\n",
        "\n",
        "**Hipótesis Nula**\n",
        "\n",
        "$H_0=...$\n",
        "\n",
        "**Estadístico (Pivote)**\n",
        "  * Identificar el estadístico\n",
        "  * Escribir qué distribución tiene bajo $H_0$\n"
      ]
    },
    {
      "cell_type": "markdown",
      "source": [
        "----------------------------------------------------------------------------\n",
        "**Respuesta:**\n",
        "\n",
        "Hipótesis Nula\n",
        "\n",
        "**H0**= No hay diferencia en las medias de los salarios entre el grupo A y el B (***μ1=μ2***)\n",
        "\n",
        "Hipótesis alternativa\n",
        "\n",
        "**Ha**=Existen diferencias en las medias de los salarios entre los grupos A y B (***μ1≠μ2***)\n",
        "\n",
        "-El estadisitico a calcular es la diferencia entre las medias\n",
        "-Dado que la Ha es ***μ1=μ2***, se empleará un test de dos colas, en el que seanalizan posibles desviaciones en las dos direcciones"
      ],
      "metadata": {
        "id": "PlQs_YcvkJo1"
      }
    },
    {
      "cell_type": "markdown",
      "metadata": {
        "id": "3Ip_5YdenC8u"
      },
      "source": [
        "### 2.2 P-valor\n",
        "\n",
        "1. Calcule el p-valor y decida si rechazar o no la hipótesis nula.\n",
        "2. Interprete el resultado.\n",
        "\n",
        "Links útiles:\n",
        "* [Test de hipótesis usando scipy](https://docs.scipy.org/doc/scipy/reference/generated/scipy.stats.ttest_ind.html)\n",
        "* [Test de Welch](http://daniellakens.blogspot.com/2015/01/always-use-welchs-t-test-instead-of.html)"
      ]
    },
    {
      "cell_type": "code",
      "source": [
        "#Test de Levene\n",
        "#Se considera hipótesis nula que los datos proceden de distribuciones con la misma varianza (homocedasticidad). \n",
        "#Por lo tanto, si el p-value es menor que un determinado valor (típicamente 0.05), entonces se considera que hay evidencias suficientes para rechazar la homocedasticidad en favor de la heterocedasticidad.\n",
        "levene_test = stats.levene(groupA, groupB, center='median')\n",
        "levene_test\n",
        "\n",
        "#En este caso hay heterogeneidad de varianza, por lo que es necesario hacer el test de Welch para prueba de hipotesis"
      ],
      "metadata": {
        "colab": {
          "base_uri": "https://localhost:8080/"
        },
        "id": "q-aJwyFhnnRm",
        "outputId": "2f3e407b-0b32-4e5f-b244-64f91b6878f5"
      },
      "execution_count": 24,
      "outputs": [
        {
          "output_type": "execute_result",
          "data": {
            "text/plain": [
              "LeveneResult(statistic=23.431491665834244, pvalue=1.3285372646647198e-06)"
            ]
          },
          "metadata": {},
          "execution_count": 24
        }
      ]
    },
    {
      "cell_type": "markdown",
      "source": [
        "Test de Welch: Este test debería ser usado en vez de el test t-student dado que  tiene una mejor performance cuando el tamaño de la muestra y las varianzas son distintas entre los grupos y además da el mismo resultado cuando el tamaño de muestra y las varianzas son iguales entre grupos.\n",
        "\n",
        "Los supuestos que se deben cumplir de este test son:\n",
        "\n",
        "La variable independiente (género) es categórica con al menos dos niveles (grupos)\n",
        "La variable dependiente (salario neto) es continua\n",
        "Las dos poblaciones se distribuyen normal"
      ],
      "metadata": {
        "id": "5ePqm_Cjlpn8"
      }
    },
    {
      "cell_type": "code",
      "source": [
        "stats.ttest_ind(groupA, groupB, equal_var = False) #Podemos rechazar la Ho de igualdad de medias"
      ],
      "metadata": {
        "colab": {
          "base_uri": "https://localhost:8080/"
        },
        "id": "xA5gAgcLIz_D",
        "outputId": "79dc7749-1676-4aa0-d2c6-86cfc3f5211a"
      },
      "execution_count": 25,
      "outputs": [
        {
          "output_type": "execute_result",
          "data": {
            "text/plain": [
              "Ttest_indResult(statistic=9.697205976350673, pvalue=8.605197322133209e-22)"
            ]
          },
          "metadata": {},
          "execution_count": 25
        }
      ]
    },
    {
      "cell_type": "markdown",
      "source": [
        "#Conclusión:\n",
        "Se calcula el p-valor: mide la probabilidad de obtener los resultados observados, asumiendo que la hipótesis nula es verdadera. Si esta probabilidad es pequeña (menor que α ) se rechaza H0 y se concluye que la diferencia observada no es atribuible al azar y las medias de las dos poblaciones son diferentes.\n",
        "\n",
        "Dado que p_valor < α  se rechaza la hipótesis nula\n",
        "\n",
        "El resultado del test de hipótesis permite afirmar que la distribución de salarios entre los grupos es distinta."
      ],
      "metadata": {
        "id": "gUs_ZN8JfQBl"
      }
    },
    {
      "cell_type": "markdown",
      "metadata": {
        "id": "8VxiQr5YrQYR"
      },
      "source": [
        "### [Opcional] 2.3 Potencia del test\n",
        "\n",
        "Nuestra muestra, ¿era lo suficientemente grande para detectar si existe o no una diferencia entre los grupos?\n",
        "\n",
        "1. Utilice la función `tt_ind_solve_power` para calcular el tamaño necesario de la muestra para un poder estadístico de 0.8, 0.9 y 0.95, asumiendo una significancia estadística de 0.05.\n",
        "2. ¿Cómo intepretan el poder estadístico de un test? Dado su conocimiento de dominio sobre los datos, ¿les parece que esta muestra es lo suficientemente grande para ser representativo de la tendencia general? ¿y para utilizarlo en un juicio penal contra una empresa XX por una causa de discriminación?\n",
        "\n",
        "[Documentación](https://www.statsmodels.org/stable/generated/statsmodels.stats.power.tt_ind_solve_power.html)\n",
        "\n",
        "NOTA: este análisis debería hacerse ANTES de recolectar los datos."
      ]
    },
    {
      "cell_type": "code",
      "metadata": {
        "colab": {
          "base_uri": "https://localhost:8080/"
        },
        "id": "_IiqGfo4t6Db",
        "outputId": "5dadf3af-b07b-4a39-8e53-de95664e0962"
      },
      "source": [
        "from statsmodels.stats.power import tt_ind_solve_power"
      ],
      "execution_count": 26,
      "outputs": [
        {
          "output_type": "stream",
          "name": "stderr",
          "text": [
            "/usr/local/lib/python3.7/dist-packages/statsmodels/tools/_testing.py:19: FutureWarning: pandas.util.testing is deprecated. Use the functions in the public API at pandas.testing instead.\n",
            "  import pandas.util.testing as tm\n"
          ]
        }
      ]
    },
    {
      "cell_type": "code",
      "metadata": {
        "id": "LUQ7MA2Apj9x",
        "colab": {
          "base_uri": "https://localhost:8080/"
        },
        "outputId": "b1b1b596-272b-48c4-ab90-e3f92c77438c"
      },
      "source": [
        "effect_size = (groupA.mean() - groupB.mean()) / groupB.std()\n",
        "# nobs1=None  - What we want to know\n",
        "alpha = 0.05\n",
        "ratio = len(groupB) / len(groupA)\n",
        "power= 0.80\n",
        "tt_ind_solve_power(effect_size=effect_size, alpha=alpha, power=power, ratio=ratio)"
      ],
      "execution_count": 35,
      "outputs": [
        {
          "output_type": "execute_result",
          "data": {
            "text/plain": [
              "298.3073379956589"
            ]
          },
          "metadata": {},
          "execution_count": 35
        }
      ]
    },
    {
      "cell_type": "code",
      "source": [
        "power= 0.90\n",
        "tt_ind_solve_power(effect_size=effect_size, alpha=alpha, power=power, ratio=ratio)"
      ],
      "metadata": {
        "colab": {
          "base_uri": "https://localhost:8080/"
        },
        "id": "-rnSGQnZhN0-",
        "outputId": "930ec66c-9b2c-4103-e6e7-e57324c35b53"
      },
      "execution_count": 36,
      "outputs": [
        {
          "output_type": "execute_result",
          "data": {
            "text/plain": [
              "398.79610014029686"
            ]
          },
          "metadata": {},
          "execution_count": 36
        }
      ]
    },
    {
      "cell_type": "code",
      "source": [
        "power= 0.95\n",
        "tt_ind_solve_power(effect_size=effect_size, alpha=alpha, power=power, ratio=ratio)"
      ],
      "metadata": {
        "colab": {
          "base_uri": "https://localhost:8080/"
        },
        "id": "RhxIARjfhQ3Y",
        "outputId": "8c5436c3-86d6-4c79-a942-85a3cb33f1b9"
      },
      "execution_count": 37,
      "outputs": [
        {
          "output_type": "execute_result",
          "data": {
            "text/plain": [
              "492.8117730249087"
            ]
          },
          "metadata": {},
          "execution_count": 37
        }
      ]
    },
    {
      "cell_type": "code",
      "source": [
        "power= 0.9999\n",
        "tt_ind_solve_power(effect_size=effect_size, alpha=alpha, power=power, ratio=ratio)"
      ],
      "metadata": {
        "colab": {
          "base_uri": "https://localhost:8080/"
        },
        "id": "iAAFInbukuiL",
        "outputId": "96a150f4-2a4d-4de1-f79e-1be97fbfda16"
      },
      "execution_count": 38,
      "outputs": [
        {
          "output_type": "execute_result",
          "data": {
            "text/plain": [
              "1220.6871088112841"
            ]
          },
          "metadata": {},
          "execution_count": 38
        }
      ]
    },
    {
      "cell_type": "markdown",
      "source": [
        "Conclusión: dados los resultados de los test de potencias podemos afirmar que nuestra muestra era lo suficientemente grande para detectar las diferencias con respecto a los salarios mensuales netos de cada grupo.\n",
        "\n",
        "La potencia es la probabilidad de que el test rechace correctamente la hipótesis nula, si la H1 es verdadera.\n",
        "\n",
        "\n",
        "Respecto a poder utilizar el test o no en un juicio penal contra una empresa XX por una causa de discriminación, entendemos que dada la rigurosidad del caso necesitaríamos que la potencia del test sea lo mayor posible y para ello tomar un \"n\" lo suficientemente grande minimizando el Error tipo II que sería no rechazar Ho cuando es falsa."
      ],
      "metadata": {
        "id": "1XJfvECrhenZ"
      }
    },
    {
      "cell_type": "markdown",
      "metadata": {
        "id": "useKMdPyMod5"
      },
      "source": [
        "## Ejercicio 3: Comunicación y visualización\n",
        "\n",
        "**Consigna:** Seleccionen un resultado que les parezca relevante a partir de alguno de los ejercicios del entregable. Diseñe e implemente una comunicación en base a este mensaje, en un archivo PDF.\n",
        "\n",
        "Elija las palabras y visualización más adecuada para que la comunicación sea entendible, efectiva y se dapte a UNA de las siguientes situaciones:\n",
        "\n",
        "1. Una sección en un artículo de difusión a presentar como parte de una organización sin fines de lucro.\n",
        "No más de 1 página A4 (o dos si los gráficos son muy grandes).\n",
        "  1. Ejemplo: Alguna de las secciones [Los ecosistemas de emprendimiento de América Latina y el Caribe frente al COVID-19: Impactos, necesidades y recomendaciones](https://publications.iadb.org/es/los-ecosistemas-de-emprendimiento-de-america-latina-y-el-caribe-frente-al-covid-19-impactos-necesidades-y-recomendaciones), por ejemplo la sección *2.2. Reacciones de los emprendedores*.\n",
        "  2. Ejemplo: Alguna de las secciones de [The state of gender pay gap in 2021](https://www.payscale.com/data/gender-pay-gap?tk=carousel-ps-rc-job)\n",
        "  3. Puntos clave: \n",
        "    1. Simpleza de los gráficos.\n",
        "    2. Comunicación en lenguaje simple a personas que no son necesariamente expertos de dominio.\n",
        "    2. Selección de UNA oración sobre la que se hace énfasis.\n",
        "    3. No es necesario que mencionen objetivos ni descripciones del conjunto de datos, se supone que eso ya estaría explicado en otras secciones del informe.\n",
        "\n",
        "2. Una publicación científica o reporte técnico interno. No más de una página A4:\n",
        "  2. Ejemplo: La sección de resultados de [IZA DP No. 12914: The Impact of a Minimum Wage Change on the Distribution of Wages and Household Income](https://www.iza.org/publications/dp/12914/the-impact-of-a-minimum-wage-change-on-the-distribution-of-wages-and-household-income).\n",
        "  2. Ejemplo: Alguna de las secciones de [Temporary reduction in daily global CO2 emissions during the COVID-19 forced confinement](https://www.nature.com/articles/s41558-020-0797-x)\n",
        "  3. Puntos clave:\n",
        "    3. Nivel de detalle técnico requerido. Es necesario justificar la validez del análisis.\n",
        "    4. La idea presentada puede ser más compleja. Pueden asumir que la audiencia tiene conocimiento técnico y va a analizar las visualizaciones en detalle. \n",
        "    5. Pueden presentar más en detalle las limitaciones del análisis (significancia estadística, etc.)\n",
        "    2. No es necesario que mencionen objetivos ni descripciones del conjunto de datos, se supone que eso ya estaría explicado en otras secciones del informe.\n",
        "\n",
        "3. Un tweet (o post de LinkedIn) para la cuenta de su empresa consultora que hace análisis de datos. El objetivo es promocionar un análisis de datos abiertos que van a incluir en su portfolio:\n",
        "  1. Ejemplo: [Comparación vacunas covid](https://twitter.com/infobeautiful/status/1381577746527236098?s=20)\n",
        "  2. Ejemplo: [Tweet del BID](https://twitter.com/el_BID/status/1388508583944507396?s=20). Lo valioso de este tweet es que usaron un único número para transmitir un mensaje. Puede ser algo así, o con un gráfico muy simple.\n",
        "  3. Ejemplo: [Cambio climático](https://twitter.com/UNFCCC/status/1387732156190011394?s=20) Es un muy buen ejemplo, excepto que el gráfico no se lee nada y hay que entrar a la publicación original.\n",
        "  3. Ejemplo: [¿Cuánto están los programadores en las empresas?](https://www.linkedin.com/posts/denis-rothman-0b034043_tech-career-work-activity-6793861923269054464-gS6y) (No verificamos la veracidad o seriedad de la fuente).\n",
        "  4. Puntos clave:\n",
        "    1. Su audiencia no va a mirar la visualización por más de unos segundos, y no tiene conocimiento técnico.\n",
        "  3. Tienen que incluir además una *breve* descripción de cómo obtuvieron los datos que están presentando, que no entraría en el tweet.\n"
      ]
    },
    {
      "cell_type": "markdown",
      "source": [
        "--------------------------------------------------------------------------------\n",
        "Para este ejercicio decidimos utilizar los resultados obtenidos en base a las diferencias de sueldo entre varones y mujeres programadores. Dado que vimos que segun el test de Welch hay diferencias significativas, decidimos profundizar el resultado para comunicarlo en forma de probabilidad, ya que consideramos que es mas adecuado para comunicar a los publicos no especialistas."
      ],
      "metadata": {
        "id": "c50NmYy34Ud0"
      }
    },
    {
      "cell_type": "markdown",
      "source": [
        "![Entregable_2.jpeg](data:image/jpeg;base64,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)"
      ],
      "metadata": {
        "id": "eZlV-wUtZVND"
      }
    }
  ]
}